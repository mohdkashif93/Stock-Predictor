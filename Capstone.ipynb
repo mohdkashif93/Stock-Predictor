{
 "cells": [
  {
   "cell_type": "code",
   "execution_count": 180,
   "metadata": {
    "collapsed": true
   },
   "outputs": [],
   "source": [
    "import os\n",
    "import pandas as pd\n",
    "import numpy as np\n",
    "import json\n",
    "import warnings\n",
    "from sklearn.preprocessing import PolynomialFeatures\n",
    "from sklearn.model_selection import TimeSeriesSplit\n",
    "from datetime import datetime\n",
    "from zipline.utils.factory import load_bars_from_yahoo\n",
    "import pytz\n",
    "import talib\n",
    "import numpy as np\n",
    "from sklearn import model_selection\n",
    "from sklearn import preprocessing\n",
    "import matplotlib.pyplot as plt\n",
    "import ystockquote"
   ]
  },
  {
   "cell_type": "code",
   "execution_count": 181,
   "metadata": {
    "collapsed": true
   },
   "outputs": [],
   "source": [
    "symbols = ['A', 'AA', 'AAP']#, 'ABBV', 'ABT', 'ACN', 'ADBE', 'AES', 'AET', 'AFL']\n",
    "start = datetime(2000, 1, 1, 0, 0, 0, 0, pytz.utc)\n",
    "end = datetime(2016, 4, 30, 0, 0, 0, 0, pytz.utc)\n",
    "dates = pd.date_range(start,end)"
   ]
  },
  {
   "cell_type": "code",
   "execution_count": 182,
   "metadata": {
    "collapsed": false
   },
   "outputs": [
    {
     "data": {
      "text/plain": [
       "DatetimeIndex(['2000-01-01', '2000-01-02', '2000-01-03', '2000-01-04',\n",
       "               '2000-01-05', '2000-01-06', '2000-01-07', '2000-01-08',\n",
       "               '2000-01-09', '2000-01-10',\n",
       "               ...\n",
       "               '2016-04-21', '2016-04-22', '2016-04-23', '2016-04-24',\n",
       "               '2016-04-25', '2016-04-26', '2016-04-27', '2016-04-28',\n",
       "               '2016-04-29', '2016-04-30'],\n",
       "              dtype='datetime64[ns, UTC]', length=5965, freq='D')"
      ]
     },
     "execution_count": 182,
     "metadata": {},
     "output_type": "execute_result"
    }
   ],
   "source": [
    "dates"
   ]
  },
  {
   "cell_type": "code",
   "execution_count": 187,
   "metadata": {
    "collapsed": false
   },
   "outputs": [
    {
     "data": {
      "text/plain": [
       "DatetimeIndex(['2011-10-13', '2011-10-14', '2011-10-15', '2011-10-16',\n",
       "               '2011-10-17', '2011-10-18', '2011-10-19', '2011-10-20',\n",
       "               '2011-10-21', '2011-10-22',\n",
       "               ...\n",
       "               '2016-10-03', '2016-10-04', '2016-10-05', '2016-10-06',\n",
       "               '2016-10-07', '2016-10-08', '2016-10-09', '2016-10-10',\n",
       "               '2016-10-11', '2016-10-12'],\n",
       "              dtype='datetime64[ns]', length=1827, freq='D')"
      ]
     },
     "execution_count": 187,
     "metadata": {},
     "output_type": "execute_result"
    }
   ],
   "source": [
    "dates = pd.date_range('2011-10-13', '2016-10-12')\n",
    "dates"
   ]
  },
  {
   "cell_type": "code",
   "execution_count": 188,
   "metadata": {
    "collapsed": false
   },
   "outputs": [],
   "source": [
    "def get_data(symbols, dates):\n",
    "    df = pd.DataFrame(index=dates)\n",
    "    data = []\n",
    "    for symbol in symbols:\n",
    "        df_temp = pd.read_csv(os.path.join(\"Data/table_{}.csv\".format(str(symbol))), index_col='Date',\n",
    "                              parse_dates=True, usecols=['Date', 'Adj Close'], na_values=['nan'])\n",
    "        df_comp = pd.read_csv(os.path.join(\"Data/table_{}.csv\".format(str(symbol))), index_col='Date',\n",
    "                              parse_dates=True, na_values=['nan'])\n",
    "        data.append(df_comp)\n",
    "        df_temp = df_temp.rename(columns={'Adj Close': symbol})\n",
    "        #print df_temp\n",
    "        df = df.join(df_temp)\n",
    "    return [df, data]"
   ]
  },
  {
   "cell_type": "code",
   "execution_count": 189,
   "metadata": {
    "collapsed": false
   },
   "outputs": [],
   "source": [
    "[df_old, data] = get_data(symbols, dates)"
   ]
  },
  {
   "cell_type": "code",
   "execution_count": 190,
   "metadata": {
    "collapsed": false
   },
   "outputs": [
    {
     "data": {
      "text/plain": [
       "1827"
      ]
     },
     "execution_count": 190,
     "metadata": {},
     "output_type": "execute_result"
    }
   ],
   "source": [
    "df_old.size/3"
   ]
  },
  {
   "cell_type": "code",
   "execution_count": 191,
   "metadata": {
    "collapsed": false
   },
   "outputs": [
    {
     "data": {
      "text/plain": [
       "True"
      ]
     },
     "execution_count": 191,
     "metadata": {},
     "output_type": "execute_result"
    }
   ],
   "source": [
    "df_old.isnull().values.any()"
   ]
  },
  {
   "cell_type": "code",
   "execution_count": 192,
   "metadata": {
    "collapsed": false
   },
   "outputs": [
    {
     "data": {
      "text/plain": [
       "1707"
      ]
     },
     "execution_count": 192,
     "metadata": {},
     "output_type": "execute_result"
    }
   ],
   "source": [
    "df_old.isnull().sum().sum()"
   ]
  },
  {
   "cell_type": "code",
   "execution_count": 193,
   "metadata": {
    "collapsed": false
   },
   "outputs": [
    {
     "data": {
      "text/plain": [
       "1827"
      ]
     },
     "execution_count": 193,
     "metadata": {},
     "output_type": "execute_result"
    }
   ],
   "source": [
    "len(dates)"
   ]
  },
  {
   "cell_type": "code",
   "execution_count": 194,
   "metadata": {
    "collapsed": true
   },
   "outputs": [],
   "source": [
    "def get_stocks_info(symbol):\n",
    "    dict_stocks = ystockquote.get_historical_prices(symbol, '2011-10-13', '2016-12-12')\n",
    "    json_str = json.dumps(dict_stocks)\n",
    "    df =pd.read_json(json_str,orient='index')\n",
    "    df = df.reindex(df.index.rename('Date'))\n",
    "    return df"
   ]
  },
  {
   "cell_type": "code",
   "execution_count": 195,
   "metadata": {
    "collapsed": false
   },
   "outputs": [],
   "source": [
    "def fill_missing(df):\n",
    "    df.fillna(method='ffill', inplace=True)\n",
    "    df.fillna(method='bfill', inplace=True)"
   ]
  },
  {
   "cell_type": "code",
   "execution_count": 196,
   "metadata": {
    "collapsed": false
   },
   "outputs": [],
   "source": [
    "df = get_stocks_info('GOOGL')"
   ]
  },
  {
   "cell_type": "code",
   "execution_count": 197,
   "metadata": {
    "collapsed": true
   },
   "outputs": [],
   "source": [
    "ticker='GOOGL'"
   ]
  },
  {
   "cell_type": "code",
   "execution_count": null,
   "metadata": {
    "collapsed": false
   },
   "outputs": [],
   "source": []
  },
  {
   "cell_type": "code",
   "execution_count": 198,
   "metadata": {
    "collapsed": true
   },
   "outputs": [],
   "source": [
    "new_df = df.filter(['Date','Adj Close'], axis=1)"
   ]
  },
  {
   "cell_type": "code",
   "execution_count": 199,
   "metadata": {
    "collapsed": false
   },
   "outputs": [],
   "source": [
    "#new_df.isnull().values.any()"
   ]
  },
  {
   "cell_type": "code",
   "execution_count": 200,
   "metadata": {
    "collapsed": false
   },
   "outputs": [],
   "source": [
    "s = new_df.reindex(dates, fill_value=np.nan)\n",
    "fill_missing(s)"
   ]
  },
  {
   "cell_type": "code",
   "execution_count": 201,
   "metadata": {
    "collapsed": false
   },
   "outputs": [],
   "source": [
    "#s.isnull().values.any()"
   ]
  },
  {
   "cell_type": "code",
   "execution_count": 202,
   "metadata": {
    "collapsed": false
   },
   "outputs": [],
   "source": [
    "#s.isnull().sum().sum()*3"
   ]
  },
  {
   "cell_type": "code",
   "execution_count": 203,
   "metadata": {
    "collapsed": false
   },
   "outputs": [],
   "source": [
    "s = s.reindex(s.index.rename('Date'))"
   ]
  },
  {
   "cell_type": "code",
   "execution_count": 204,
   "metadata": {
    "collapsed": false
   },
   "outputs": [
    {
     "data": {
      "text/html": [
       "<div>\n",
       "<table border=\"1\" class=\"dataframe\">\n",
       "  <thead>\n",
       "    <tr style=\"text-align: right;\">\n",
       "      <th></th>\n",
       "      <th>Adj Close</th>\n",
       "    </tr>\n",
       "    <tr>\n",
       "      <th>Date</th>\n",
       "      <th></th>\n",
       "    </tr>\n",
       "  </thead>\n",
       "  <tbody>\n",
       "    <tr>\n",
       "      <th>2011-10-13</th>\n",
       "      <td>279.774784</td>\n",
       "    </tr>\n",
       "    <tr>\n",
       "      <th>2011-10-14</th>\n",
       "      <td>296.136143</td>\n",
       "    </tr>\n",
       "    <tr>\n",
       "      <th>2011-10-15</th>\n",
       "      <td>296.136143</td>\n",
       "    </tr>\n",
       "    <tr>\n",
       "      <th>2011-10-16</th>\n",
       "      <td>296.136143</td>\n",
       "    </tr>\n",
       "    <tr>\n",
       "      <th>2011-10-17</th>\n",
       "      <td>291.496494</td>\n",
       "    </tr>\n",
       "  </tbody>\n",
       "</table>\n",
       "</div>"
      ],
      "text/plain": [
       "             Adj Close\n",
       "Date                  \n",
       "2011-10-13  279.774784\n",
       "2011-10-14  296.136143\n",
       "2011-10-15  296.136143\n",
       "2011-10-16  296.136143\n",
       "2011-10-17  291.496494"
      ]
     },
     "execution_count": 204,
     "metadata": {},
     "output_type": "execute_result"
    }
   ],
   "source": [
    "s.head()"
   ]
  },
  {
   "cell_type": "code",
   "execution_count": 205,
   "metadata": {
    "collapsed": true
   },
   "outputs": [],
   "source": [
    "def smavg(df, N):\n",
    "    return pd.rolling_mean(df, N)[N - 1:]\n",
    "\n",
    "def expmavg(df, span):\n",
    "    return pd.ewma(df, span=span)\n",
    "\n",
    "def com_daily_returns(df):\n",
    "    daily_returns = (df / df.shift(1)) - 1\n",
    "    return daily_returns\n",
    "\n",
    "def com_momentum(df, n):\n",
    "    mom = (df / df.shift(n))\n",
    "    return mom\n",
    "\n",
    "def BBW(data,length):\n",
    "    return 4*pd.stats.moments.rolling_std(data,length)\n",
    "\n",
    "def com_williamspercent(df):\n",
    "    high=pd.rolling_max(df,2)\n",
    "    low=pd.rolling_min(df,2)\n",
    "    return ((high-df)/(high-low))*100\n",
    "\n",
    "def com_rsi(df, n):\n",
    "    df = df.diff()\n",
    "    df = df[1:]\n",
    "    up, down = df.copy(), df.copy()\n",
    "    up[up < 0] = 0\n",
    "    down[down > 0] = 0\n",
    "    roll_up = pd.rolling_mean(up, n)\n",
    "    roll_down = pd.rolling_mean(down.abs(), n)\n",
    "    rs = roll_up / roll_down\n",
    "    rss = 100.0 - (100.0 / (1.0 + rs))\n",
    "    return rss\n",
    "\n"
   ]
  },
  {
   "cell_type": "code",
   "execution_count": 206,
   "metadata": {
    "collapsed": false
   },
   "outputs": [
    {
     "data": {
      "text/html": [
       "<div>\n",
       "<table border=\"1\" class=\"dataframe\">\n",
       "  <thead>\n",
       "    <tr style=\"text-align: right;\">\n",
       "      <th></th>\n",
       "      <th>Adj Close</th>\n",
       "      <th>Close</th>\n",
       "      <th>High</th>\n",
       "      <th>Low</th>\n",
       "      <th>Open</th>\n",
       "      <th>Volume</th>\n",
       "    </tr>\n",
       "    <tr>\n",
       "      <th>Date</th>\n",
       "      <th></th>\n",
       "      <th></th>\n",
       "      <th></th>\n",
       "      <th></th>\n",
       "      <th></th>\n",
       "      <th></th>\n",
       "    </tr>\n",
       "  </thead>\n",
       "  <tbody>\n",
       "    <tr>\n",
       "      <th>2011-10-13</th>\n",
       "      <td>279.774784</td>\n",
       "      <td>558.990018</td>\n",
       "      <td>559.000018</td>\n",
       "      <td>548.019981</td>\n",
       "      <td>550.029993</td>\n",
       "      <td>11363800</td>\n",
       "    </tr>\n",
       "    <tr>\n",
       "      <th>2011-10-14</th>\n",
       "      <td>296.136143</td>\n",
       "      <td>591.680013</td>\n",
       "      <td>599.600003</td>\n",
       "      <td>587.569992</td>\n",
       "      <td>599.470006</td>\n",
       "      <td>17042700</td>\n",
       "    </tr>\n",
       "    <tr>\n",
       "      <th>2011-10-17</th>\n",
       "      <td>291.496494</td>\n",
       "      <td>582.409995</td>\n",
       "      <td>591.830010</td>\n",
       "      <td>577.999981</td>\n",
       "      <td>583.720024</td>\n",
       "      <td>8008300</td>\n",
       "    </tr>\n",
       "    <tr>\n",
       "      <th>2011-10-18</th>\n",
       "      <td>295.550541</td>\n",
       "      <td>590.509981</td>\n",
       "      <td>592.559992</td>\n",
       "      <td>577.399996</td>\n",
       "      <td>580.189989</td>\n",
       "      <td>7593900</td>\n",
       "    </tr>\n",
       "    <tr>\n",
       "      <th>2011-10-19</th>\n",
       "      <td>290.640659</td>\n",
       "      <td>580.700037</td>\n",
       "      <td>592.060004</td>\n",
       "      <td>579.220012</td>\n",
       "      <td>587.339997</td>\n",
       "      <td>5857100</td>\n",
       "    </tr>\n",
       "  </tbody>\n",
       "</table>\n",
       "</div>"
      ],
      "text/plain": [
       "             Adj Close       Close        High         Low        Open  \\\n",
       "Date                                                                     \n",
       "2011-10-13  279.774784  558.990018  559.000018  548.019981  550.029993   \n",
       "2011-10-14  296.136143  591.680013  599.600003  587.569992  599.470006   \n",
       "2011-10-17  291.496494  582.409995  591.830010  577.999981  583.720024   \n",
       "2011-10-18  295.550541  590.509981  592.559992  577.399996  580.189989   \n",
       "2011-10-19  290.640659  580.700037  592.060004  579.220012  587.339997   \n",
       "\n",
       "              Volume  \n",
       "Date                  \n",
       "2011-10-13  11363800  \n",
       "2011-10-14  17042700  \n",
       "2011-10-17   8008300  \n",
       "2011-10-18   7593900  \n",
       "2011-10-19   5857100  "
      ]
     },
     "execution_count": 206,
     "metadata": {},
     "output_type": "execute_result"
    }
   ],
   "source": [
    "df.head()"
   ]
  },
  {
   "cell_type": "code",
   "execution_count": 207,
   "metadata": {
    "collapsed": false
   },
   "outputs": [
    {
     "name": "stdout",
     "output_type": "stream",
     "text": [
      "             Adj Close\n",
      "Date                  \n",
      "2011-10-13  279.774784\n",
      "2011-10-14  296.136143\n",
      "2011-10-15  296.136143\n",
      "2011-10-16  296.136143\n",
      "2011-10-17  291.496494\n",
      "             Adj Close\n",
      "Date                  \n",
      "2011-10-22  292.907911\n",
      "2011-10-23  294.484486\n",
      "2011-10-24  294.721723\n",
      "2011-10-25  294.295295\n",
      "2011-10-26  294.026526\n",
      "             Adj Close\n",
      "Date                  \n",
      "2011-10-13  279.774784\n",
      "2011-10-14  296.136143\n",
      "2011-10-15  296.136143\n",
      "2011-10-16  296.136143\n",
      "2011-10-17  291.496494\n",
      "                 sma10\n",
      "Date                  \n",
      "2011-10-22  292.907911\n",
      "2011-10-23  294.484486\n",
      "2011-10-24  294.721723\n",
      "2011-10-25  294.295295\n",
      "2011-10-26  294.026526\n"
     ]
    },
    {
     "name": "stderr",
     "output_type": "stream",
     "text": [
      "/usr/local/lib/python2.7/dist-packages/ipykernel/__main__.py:2: FutureWarning: pd.rolling_mean is deprecated for DataFrame and will be removed in a future version, replace with \n",
      "\tDataFrame.rolling(window=10,center=False).mean()\n",
      "  from ipykernel import kernelapp as app\n",
      "/usr/local/lib/python2.7/dist-packages/ipykernel/__main__.py:2: FutureWarning: pd.rolling_mean is deprecated for DataFrame and will be removed in a future version, replace with \n",
      "\tDataFrame.rolling(window=20,center=False).mean()\n",
      "  from ipykernel import kernelapp as app\n",
      "/usr/local/lib/python2.7/dist-packages/ipykernel/__main__.py:2: FutureWarning: pd.rolling_mean is deprecated for DataFrame and will be removed in a future version, replace with \n",
      "\tDataFrame.rolling(window=30,center=False).mean()\n",
      "  from ipykernel import kernelapp as app\n",
      "/usr/local/lib/python2.7/dist-packages/ipykernel/__main__.py:5: FutureWarning: pd.ewm_mean is deprecated for DataFrame and will be removed in a future version, replace with \n",
      "\tDataFrame.ewm(ignore_na=False,span=10,min_periods=0,adjust=True).mean()\n",
      "/usr/local/lib/python2.7/dist-packages/ipykernel/__main__.py:5: FutureWarning: pd.ewm_mean is deprecated for DataFrame and will be removed in a future version, replace with \n",
      "\tDataFrame.ewm(ignore_na=False,span=20,min_periods=0,adjust=True).mean()\n",
      "/usr/local/lib/python2.7/dist-packages/ipykernel/__main__.py:5: FutureWarning: pd.ewm_mean is deprecated for DataFrame and will be removed in a future version, replace with \n",
      "\tDataFrame.ewm(ignore_na=False,span=30,min_periods=0,adjust=True).mean()\n",
      "/usr/local/lib/python2.7/dist-packages/ipykernel/__main__.py:16: FutureWarning: pd.rolling_std is deprecated for DataFrame and will be removed in a future version, replace with \n",
      "\tDataFrame.rolling(window=20,center=False).std()\n",
      "/usr/local/lib/python2.7/dist-packages/ipykernel/__main__.py:19: FutureWarning: pd.rolling_max is deprecated for DataFrame and will be removed in a future version, replace with \n",
      "\tDataFrame.rolling(window=2,center=False).max()\n",
      "/usr/local/lib/python2.7/dist-packages/ipykernel/__main__.py:20: FutureWarning: pd.rolling_min is deprecated for DataFrame and will be removed in a future version, replace with \n",
      "\tDataFrame.rolling(window=2,center=False).min()\n",
      "/usr/local/lib/python2.7/dist-packages/ipykernel/__main__.py:29: FutureWarning: pd.rolling_mean is deprecated for DataFrame and will be removed in a future version, replace with \n",
      "\tDataFrame.rolling(window=10,center=False).mean()\n",
      "/usr/local/lib/python2.7/dist-packages/ipykernel/__main__.py:30: FutureWarning: pd.rolling_mean is deprecated for DataFrame and will be removed in a future version, replace with \n",
      "\tDataFrame.rolling(window=10,center=False).mean()\n"
     ]
    }
   ],
   "source": [
    "temp_df = s.copy()\n",
    "comp_temp = df.copy()\n",
    "volume = comp_temp['Volume']\n",
    "high = comp_temp['High']\n",
    "close = comp_temp['Close']\n",
    "low = comp_temp['Low']\n",
    "# print type(volume)\n",
    "sum_data = temp_df.join(high)\n",
    "sum_data =sum_data.join(close)\n",
    "sum_data =sum_data.join(low)\n",
    "sum_data =sum_data.join(volume)\n",
    "fill_missing(sum_data)\n",
    "sum_data = sum_data[['High','Low','Close','Volume']]\n",
    "low = sum_data['Low']\n",
    "high =sum_data['High']\n",
    "volume = sum_data['Volume']\n",
    "close = sum_data['Close']\n",
    "sma10 = smavg(temp_df, 10)\n",
    "print temp_df.head()\n",
    "print sma10.head()\n",
    "sma10 = sma10.rename(columns={'Adj Close':'sma10'})\n",
    "print temp_df.head()\n",
    "print sma10.head()\n",
    "sma20 = smavg(temp_df, 20)\n",
    "sma20 = sma20.rename(columns={'Adj Close':'sma20'})\n",
    "sma30 = smavg(temp_df, 30)\n",
    "sma30 = sma30.rename(columns={'Adj Close':'sma30'})\n",
    "ema10 = expmavg(temp_df, 10)\n",
    "ema10 = ema10.rename(columns={'Adj Close':'ema10'})\n",
    "ema20 = expmavg(temp_df, 20)\n",
    "ema20 = ema20.rename(columns={'Adj Close':'ema20'})\n",
    "ema30 = expmavg(temp_df, 30)\n",
    "ema30 = ema30.rename(columns={'Adj Close':'sma30'})\n",
    "mom = com_momentum(temp_df, 10)\n",
    "mom = mom.rename(columns={'Adj Close':'mom'})\n",
    "drr = com_daily_returns(temp_df)\n",
    "drr = drr.rename(columns={'Adj Close':'drr'})\n",
    "bbw = BBW(temp_df, 20)\n",
    "bbw = bbw.rename(columns={'Adj Close':'bbw'})\n",
    "will = com_williamspercent(temp_df)\n",
    "will = will.rename(columns={'Adj Close':'will'})\n",
    "rsi = com_rsi(temp_df, 10)\n",
    "rsi = rsi.rename(columns={'Adj Close':'rsi'})"
   ]
  },
  {
   "cell_type": "code",
   "execution_count": 208,
   "metadata": {
    "collapsed": false
   },
   "outputs": [
    {
     "data": {
      "text/plain": [
       "array([ 548.019981,  587.569992,  587.569992, ...,  802.23999 ,\n",
       "        807.369995,  808.549988])"
      ]
     },
     "execution_count": 208,
     "metadata": {},
     "output_type": "execute_result"
    }
   ],
   "source": [
    "low.head()\n",
    "low.values"
   ]
  },
  {
   "cell_type": "code",
   "execution_count": 209,
   "metadata": {
    "collapsed": false
   },
   "outputs": [
    {
     "data": {
      "text/plain": [
       "array([ 279.774784,  296.136143,  296.136143, ...,  814.169983,\n",
       "        809.570007,  811.77002 ])"
      ]
     },
     "execution_count": 209,
     "metadata": {},
     "output_type": "execute_result"
    }
   ],
   "source": [
    "temp_df.values.flatten()"
   ]
  },
  {
   "cell_type": "code",
   "execution_count": 210,
   "metadata": {
    "collapsed": false
   },
   "outputs": [
    {
     "data": {
      "text/plain": [
       "735"
      ]
     },
     "execution_count": 210,
     "metadata": {},
     "output_type": "execute_result"
    }
   ],
   "source": [
    "len(X)"
   ]
  },
  {
   "cell_type": "code",
   "execution_count": 211,
   "metadata": {
    "collapsed": false
   },
   "outputs": [],
   "source": [
    "time_period = 30\n",
    "ti_ATR = talib.ATR(high.values, low.values,close.values, time_period)\n",
    "ti_ROCP = talib.ROCP(temp_df.values.flatten(), time_period)\n",
    "ti_OBV = talib.OBV(temp_df.values.flatten(), volume.values)\n",
    "# ROCR\n",
    "ti_ROCR = talib.ROCR(temp_df.values.flatten(), time_period)\n",
    "ti_MEDPRICE = talib.MEDPRICE(high.values, low.values)\n",
    "ti_MFI = talib.MFI(high.values,low.values,close.values, volume.values, time_period)\n"
   ]
  },
  {
   "cell_type": "code",
   "execution_count": 212,
   "metadata": {
    "collapsed": false
   },
   "outputs": [],
   "source": [
    "ti = pd.DataFrame({\n",
    "        'ATR': ti_ATR,\n",
    "        'MEDPRICE': ti_MEDPRICE,\n",
    "        'MFI': ti_MFI,\n",
    "        'OBV': ti_OBV,\n",
    "        'ROCP': ti_ROCP,\n",
    "        'ROCR': ti_ROCR,\n",
    "    }, index=temp_df.index)\n"
   ]
  },
  {
   "cell_type": "code",
   "execution_count": 213,
   "metadata": {
    "collapsed": false
   },
   "outputs": [
    {
     "data": {
      "text/plain": [
       "pandas.core.frame.DataFrame"
      ]
     },
     "execution_count": 213,
     "metadata": {},
     "output_type": "execute_result"
    }
   ],
   "source": [
    "type(ema10)"
   ]
  },
  {
   "cell_type": "code",
   "execution_count": 214,
   "metadata": {
    "collapsed": false
   },
   "outputs": [],
   "source": [
    "X=pd.concat([ema10,ema20,sma10,sma20,rsi,drr,mom,will,volume,high,close,ti], axis=1).dropna()"
   ]
  },
  {
   "cell_type": "code",
   "execution_count": 215,
   "metadata": {
    "collapsed": false
   },
   "outputs": [],
   "source": [
    "col_list = [s for s in list(X.columns) if 'Volume' in s]\n",
    "X[col_list] = X[col_list].apply(lambda x: (x - x.mean()) / (x.max() - x.min()))"
   ]
  },
  {
   "cell_type": "code",
   "execution_count": 216,
   "metadata": {
    "collapsed": false
   },
   "outputs": [],
   "source": [
    "Y=pd.concat([X.copy(),temp_df.copy()], axis=1,join_axes=[X.index]).dropna()"
   ]
  },
  {
   "cell_type": "code",
   "execution_count": 217,
   "metadata": {
    "collapsed": false
   },
   "outputs": [],
   "source": [
    "index_values = X.index.values"
   ]
  },
  {
   "cell_type": "code",
   "execution_count": 218,
   "metadata": {
    "collapsed": true
   },
   "outputs": [],
   "source": [
    "Y = temp_df.reindex(index_values, fill_value=np.nan)"
   ]
  },
  {
   "cell_type": "code",
   "execution_count": 219,
   "metadata": {
    "collapsed": false
   },
   "outputs": [
    {
     "data": {
      "text/html": [
       "<div>\n",
       "<table border=\"1\" class=\"dataframe\">\n",
       "  <thead>\n",
       "    <tr style=\"text-align: right;\">\n",
       "      <th></th>\n",
       "      <th>Adj Close</th>\n",
       "    </tr>\n",
       "    <tr>\n",
       "      <th>Date</th>\n",
       "      <th></th>\n",
       "    </tr>\n",
       "  </thead>\n",
       "  <tbody>\n",
       "    <tr>\n",
       "      <th>2011-11-14</th>\n",
       "      <td>306.806797</td>\n",
       "    </tr>\n",
       "    <tr>\n",
       "      <th>2011-11-15</th>\n",
       "      <td>308.588597</td>\n",
       "    </tr>\n",
       "    <tr>\n",
       "      <th>2011-11-16</th>\n",
       "      <td>306.041050</td>\n",
       "    </tr>\n",
       "    <tr>\n",
       "      <th>2011-11-17</th>\n",
       "      <td>300.735752</td>\n",
       "    </tr>\n",
       "    <tr>\n",
       "      <th>2011-11-18</th>\n",
       "      <td>297.737736</td>\n",
       "    </tr>\n",
       "  </tbody>\n",
       "</table>\n",
       "</div>"
      ],
      "text/plain": [
       "             Adj Close\n",
       "Date                  \n",
       "2011-11-14  306.806797\n",
       "2011-11-15  308.588597\n",
       "2011-11-16  306.041050\n",
       "2011-11-17  300.735752\n",
       "2011-11-18  297.737736"
      ]
     },
     "execution_count": 219,
     "metadata": {},
     "output_type": "execute_result"
    }
   ],
   "source": [
    "Y.head()"
   ]
  },
  {
   "cell_type": "code",
   "execution_count": 220,
   "metadata": {
    "collapsed": false
   },
   "outputs": [
    {
     "data": {
      "text/plain": [
       "(1236, 1)"
      ]
     },
     "execution_count": 220,
     "metadata": {},
     "output_type": "execute_result"
    }
   ],
   "source": [
    "Y.shape"
   ]
  },
  {
   "cell_type": "code",
   "execution_count": 221,
   "metadata": {
    "collapsed": false
   },
   "outputs": [
    {
     "data": {
      "text/html": [
       "<div>\n",
       "<table border=\"1\" class=\"dataframe\">\n",
       "  <thead>\n",
       "    <tr style=\"text-align: right;\">\n",
       "      <th></th>\n",
       "      <th>ema10</th>\n",
       "      <th>ema20</th>\n",
       "      <th>sma10</th>\n",
       "      <th>sma20</th>\n",
       "      <th>rsi</th>\n",
       "      <th>drr</th>\n",
       "      <th>mom</th>\n",
       "      <th>will</th>\n",
       "      <th>Volume</th>\n",
       "      <th>High</th>\n",
       "      <th>Close</th>\n",
       "      <th>ATR</th>\n",
       "      <th>MEDPRICE</th>\n",
       "      <th>MFI</th>\n",
       "      <th>OBV</th>\n",
       "      <th>ROCP</th>\n",
       "      <th>ROCR</th>\n",
       "    </tr>\n",
       "    <tr>\n",
       "      <th>Date</th>\n",
       "      <th></th>\n",
       "      <th></th>\n",
       "      <th></th>\n",
       "      <th></th>\n",
       "      <th></th>\n",
       "      <th></th>\n",
       "      <th></th>\n",
       "      <th></th>\n",
       "      <th></th>\n",
       "      <th></th>\n",
       "      <th></th>\n",
       "      <th></th>\n",
       "      <th></th>\n",
       "      <th></th>\n",
       "      <th></th>\n",
       "      <th></th>\n",
       "      <th></th>\n",
       "    </tr>\n",
       "  </thead>\n",
       "  <tbody>\n",
       "    <tr>\n",
       "      <th>2011-11-14</th>\n",
       "      <td>302.750433</td>\n",
       "      <td>300.739430</td>\n",
       "      <td>302.654163</td>\n",
       "      <td>299.854360</td>\n",
       "      <td>66.407127</td>\n",
       "      <td>0.007644</td>\n",
       "      <td>1.028282</td>\n",
       "      <td>0.0</td>\n",
       "      <td>0.124340</td>\n",
       "      <td>618.079979</td>\n",
       "      <td>612.999981</td>\n",
       "      <td>12.528019</td>\n",
       "      <td>612.929983</td>\n",
       "      <td>63.053353</td>\n",
       "      <td>62222400.0</td>\n",
       "      <td>0.036033</td>\n",
       "      <td>1.036033</td>\n",
       "    </tr>\n",
       "    <tr>\n",
       "      <th>2011-11-15</th>\n",
       "      <td>303.813074</td>\n",
       "      <td>301.512703</td>\n",
       "      <td>303.676185</td>\n",
       "      <td>300.611367</td>\n",
       "      <td>68.583899</td>\n",
       "      <td>0.005808</td>\n",
       "      <td>1.034254</td>\n",
       "      <td>0.0</td>\n",
       "      <td>0.082252</td>\n",
       "      <td>618.079979</td>\n",
       "      <td>616.560016</td>\n",
       "      <td>12.363085</td>\n",
       "      <td>614.289980</td>\n",
       "      <td>64.539849</td>\n",
       "      <td>67569000.0</td>\n",
       "      <td>0.042050</td>\n",
       "      <td>1.042050</td>\n",
       "    </tr>\n",
       "    <tr>\n",
       "      <th>2011-11-16</th>\n",
       "      <td>304.218522</td>\n",
       "      <td>301.957362</td>\n",
       "      <td>304.443452</td>\n",
       "      <td>300.931687</td>\n",
       "      <td>62.768608</td>\n",
       "      <td>-0.008255</td>\n",
       "      <td>1.025715</td>\n",
       "      <td>100.0</td>\n",
       "      <td>0.076710</td>\n",
       "      <td>618.300034</td>\n",
       "      <td>611.470018</td>\n",
       "      <td>12.207317</td>\n",
       "      <td>614.455006</td>\n",
       "      <td>65.730334</td>\n",
       "      <td>62357300.0</td>\n",
       "      <td>0.049896</td>\n",
       "      <td>1.049896</td>\n",
       "    </tr>\n",
       "    <tr>\n",
       "      <th>2011-11-17</th>\n",
       "      <td>303.584829</td>\n",
       "      <td>301.837760</td>\n",
       "      <td>304.070078</td>\n",
       "      <td>300.949957</td>\n",
       "      <td>43.617383</td>\n",
       "      <td>-0.017335</td>\n",
       "      <td>0.987737</td>\n",
       "      <td>100.0</td>\n",
       "      <td>0.149345</td>\n",
       "      <td>612.289998</td>\n",
       "      <td>600.870033</td>\n",
       "      <td>12.317406</td>\n",
       "      <td>604.535005</td>\n",
       "      <td>60.362092</td>\n",
       "      <td>55377700.0</td>\n",
       "      <td>0.017544</td>\n",
       "      <td>1.017544</td>\n",
       "    </tr>\n",
       "    <tr>\n",
       "      <th>2011-11-18</th>\n",
       "      <td>302.521087</td>\n",
       "      <td>301.437414</td>\n",
       "      <td>303.196204</td>\n",
       "      <td>300.818325</td>\n",
       "      <td>35.551154</td>\n",
       "      <td>-0.009969</td>\n",
       "      <td>0.971486</td>\n",
       "      <td>100.0</td>\n",
       "      <td>0.132467</td>\n",
       "      <td>604.500005</td>\n",
       "      <td>594.879996</td>\n",
       "      <td>12.265158</td>\n",
       "      <td>599.125015</td>\n",
       "      <td>59.982937</td>\n",
       "      <td>48808900.0</td>\n",
       "      <td>0.024419</td>\n",
       "      <td>1.024419</td>\n",
       "    </tr>\n",
       "  </tbody>\n",
       "</table>\n",
       "</div>"
      ],
      "text/plain": [
       "                 ema10       ema20       sma10       sma20        rsi  \\\n",
       "Date                                                                    \n",
       "2011-11-14  302.750433  300.739430  302.654163  299.854360  66.407127   \n",
       "2011-11-15  303.813074  301.512703  303.676185  300.611367  68.583899   \n",
       "2011-11-16  304.218522  301.957362  304.443452  300.931687  62.768608   \n",
       "2011-11-17  303.584829  301.837760  304.070078  300.949957  43.617383   \n",
       "2011-11-18  302.521087  301.437414  303.196204  300.818325  35.551154   \n",
       "\n",
       "                 drr       mom   will    Volume        High       Close  \\\n",
       "Date                                                                      \n",
       "2011-11-14  0.007644  1.028282    0.0  0.124340  618.079979  612.999981   \n",
       "2011-11-15  0.005808  1.034254    0.0  0.082252  618.079979  616.560016   \n",
       "2011-11-16 -0.008255  1.025715  100.0  0.076710  618.300034  611.470018   \n",
       "2011-11-17 -0.017335  0.987737  100.0  0.149345  612.289998  600.870033   \n",
       "2011-11-18 -0.009969  0.971486  100.0  0.132467  604.500005  594.879996   \n",
       "\n",
       "                  ATR    MEDPRICE        MFI         OBV      ROCP      ROCR  \n",
       "Date                                                                          \n",
       "2011-11-14  12.528019  612.929983  63.053353  62222400.0  0.036033  1.036033  \n",
       "2011-11-15  12.363085  614.289980  64.539849  67569000.0  0.042050  1.042050  \n",
       "2011-11-16  12.207317  614.455006  65.730334  62357300.0  0.049896  1.049896  \n",
       "2011-11-17  12.317406  604.535005  60.362092  55377700.0  0.017544  1.017544  \n",
       "2011-11-18  12.265158  599.125015  59.982937  48808900.0  0.024419  1.024419  "
      ]
     },
     "execution_count": 221,
     "metadata": {},
     "output_type": "execute_result"
    }
   ],
   "source": [
    "X.head()"
   ]
  },
  {
   "cell_type": "code",
   "execution_count": 222,
   "metadata": {
    "collapsed": false
   },
   "outputs": [],
   "source": [
    "# Y = Y.reset_index()\n",
    "# X=X.reset_index()\n",
    "del X.index.name\n",
    "del Y.index.name"
   ]
  },
  {
   "cell_type": "code",
   "execution_count": 223,
   "metadata": {
    "collapsed": false
   },
   "outputs": [
    {
     "data": {
      "text/html": [
       "<div>\n",
       "<table border=\"1\" class=\"dataframe\">\n",
       "  <thead>\n",
       "    <tr style=\"text-align: right;\">\n",
       "      <th></th>\n",
       "      <th>Adj Close</th>\n",
       "    </tr>\n",
       "  </thead>\n",
       "  <tbody>\n",
       "    <tr>\n",
       "      <th>2011-11-14</th>\n",
       "      <td>306.806797</td>\n",
       "    </tr>\n",
       "    <tr>\n",
       "      <th>2011-11-15</th>\n",
       "      <td>308.588597</td>\n",
       "    </tr>\n",
       "    <tr>\n",
       "      <th>2011-11-16</th>\n",
       "      <td>306.041050</td>\n",
       "    </tr>\n",
       "    <tr>\n",
       "      <th>2011-11-17</th>\n",
       "      <td>300.735752</td>\n",
       "    </tr>\n",
       "    <tr>\n",
       "      <th>2011-11-18</th>\n",
       "      <td>297.737736</td>\n",
       "    </tr>\n",
       "  </tbody>\n",
       "</table>\n",
       "</div>"
      ],
      "text/plain": [
       "             Adj Close\n",
       "2011-11-14  306.806797\n",
       "2011-11-15  308.588597\n",
       "2011-11-16  306.041050\n",
       "2011-11-17  300.735752\n",
       "2011-11-18  297.737736"
      ]
     },
     "execution_count": 223,
     "metadata": {},
     "output_type": "execute_result"
    }
   ],
   "source": [
    "X.head()\n",
    "Y.head()"
   ]
  },
  {
   "cell_type": "code",
   "execution_count": 224,
   "metadata": {
    "collapsed": false
   },
   "outputs": [
    {
     "data": {
      "text/html": [
       "<div>\n",
       "<table border=\"1\" class=\"dataframe\">\n",
       "  <thead>\n",
       "    <tr style=\"text-align: right;\">\n",
       "      <th></th>\n",
       "      <th>ema10</th>\n",
       "      <th>ema20</th>\n",
       "      <th>sma10</th>\n",
       "      <th>sma20</th>\n",
       "      <th>rsi</th>\n",
       "      <th>drr</th>\n",
       "      <th>mom</th>\n",
       "      <th>will</th>\n",
       "      <th>Volume</th>\n",
       "      <th>High</th>\n",
       "      <th>Close</th>\n",
       "      <th>ATR</th>\n",
       "      <th>MEDPRICE</th>\n",
       "      <th>MFI</th>\n",
       "      <th>OBV</th>\n",
       "      <th>ROCP</th>\n",
       "      <th>ROCR</th>\n",
       "    </tr>\n",
       "  </thead>\n",
       "  <tbody>\n",
       "    <tr>\n",
       "      <th>2011-11-14</th>\n",
       "      <td>302.750433</td>\n",
       "      <td>300.739430</td>\n",
       "      <td>302.654163</td>\n",
       "      <td>299.854360</td>\n",
       "      <td>66.407127</td>\n",
       "      <td>0.007644</td>\n",
       "      <td>1.028282</td>\n",
       "      <td>0.0</td>\n",
       "      <td>0.124340</td>\n",
       "      <td>618.079979</td>\n",
       "      <td>612.999981</td>\n",
       "      <td>12.528019</td>\n",
       "      <td>612.929983</td>\n",
       "      <td>63.053353</td>\n",
       "      <td>62222400.0</td>\n",
       "      <td>0.036033</td>\n",
       "      <td>1.036033</td>\n",
       "    </tr>\n",
       "    <tr>\n",
       "      <th>2011-11-15</th>\n",
       "      <td>303.813074</td>\n",
       "      <td>301.512703</td>\n",
       "      <td>303.676185</td>\n",
       "      <td>300.611367</td>\n",
       "      <td>68.583899</td>\n",
       "      <td>0.005808</td>\n",
       "      <td>1.034254</td>\n",
       "      <td>0.0</td>\n",
       "      <td>0.082252</td>\n",
       "      <td>618.079979</td>\n",
       "      <td>616.560016</td>\n",
       "      <td>12.363085</td>\n",
       "      <td>614.289980</td>\n",
       "      <td>64.539849</td>\n",
       "      <td>67569000.0</td>\n",
       "      <td>0.042050</td>\n",
       "      <td>1.042050</td>\n",
       "    </tr>\n",
       "    <tr>\n",
       "      <th>2011-11-16</th>\n",
       "      <td>304.218522</td>\n",
       "      <td>301.957362</td>\n",
       "      <td>304.443452</td>\n",
       "      <td>300.931687</td>\n",
       "      <td>62.768608</td>\n",
       "      <td>-0.008255</td>\n",
       "      <td>1.025715</td>\n",
       "      <td>100.0</td>\n",
       "      <td>0.076710</td>\n",
       "      <td>618.300034</td>\n",
       "      <td>611.470018</td>\n",
       "      <td>12.207317</td>\n",
       "      <td>614.455006</td>\n",
       "      <td>65.730334</td>\n",
       "      <td>62357300.0</td>\n",
       "      <td>0.049896</td>\n",
       "      <td>1.049896</td>\n",
       "    </tr>\n",
       "    <tr>\n",
       "      <th>2011-11-17</th>\n",
       "      <td>303.584829</td>\n",
       "      <td>301.837760</td>\n",
       "      <td>304.070078</td>\n",
       "      <td>300.949957</td>\n",
       "      <td>43.617383</td>\n",
       "      <td>-0.017335</td>\n",
       "      <td>0.987737</td>\n",
       "      <td>100.0</td>\n",
       "      <td>0.149345</td>\n",
       "      <td>612.289998</td>\n",
       "      <td>600.870033</td>\n",
       "      <td>12.317406</td>\n",
       "      <td>604.535005</td>\n",
       "      <td>60.362092</td>\n",
       "      <td>55377700.0</td>\n",
       "      <td>0.017544</td>\n",
       "      <td>1.017544</td>\n",
       "    </tr>\n",
       "    <tr>\n",
       "      <th>2011-11-18</th>\n",
       "      <td>302.521087</td>\n",
       "      <td>301.437414</td>\n",
       "      <td>303.196204</td>\n",
       "      <td>300.818325</td>\n",
       "      <td>35.551154</td>\n",
       "      <td>-0.009969</td>\n",
       "      <td>0.971486</td>\n",
       "      <td>100.0</td>\n",
       "      <td>0.132467</td>\n",
       "      <td>604.500005</td>\n",
       "      <td>594.879996</td>\n",
       "      <td>12.265158</td>\n",
       "      <td>599.125015</td>\n",
       "      <td>59.982937</td>\n",
       "      <td>48808900.0</td>\n",
       "      <td>0.024419</td>\n",
       "      <td>1.024419</td>\n",
       "    </tr>\n",
       "  </tbody>\n",
       "</table>\n",
       "</div>"
      ],
      "text/plain": [
       "                 ema10       ema20       sma10       sma20        rsi  \\\n",
       "2011-11-14  302.750433  300.739430  302.654163  299.854360  66.407127   \n",
       "2011-11-15  303.813074  301.512703  303.676185  300.611367  68.583899   \n",
       "2011-11-16  304.218522  301.957362  304.443452  300.931687  62.768608   \n",
       "2011-11-17  303.584829  301.837760  304.070078  300.949957  43.617383   \n",
       "2011-11-18  302.521087  301.437414  303.196204  300.818325  35.551154   \n",
       "\n",
       "                 drr       mom   will    Volume        High       Close  \\\n",
       "2011-11-14  0.007644  1.028282    0.0  0.124340  618.079979  612.999981   \n",
       "2011-11-15  0.005808  1.034254    0.0  0.082252  618.079979  616.560016   \n",
       "2011-11-16 -0.008255  1.025715  100.0  0.076710  618.300034  611.470018   \n",
       "2011-11-17 -0.017335  0.987737  100.0  0.149345  612.289998  600.870033   \n",
       "2011-11-18 -0.009969  0.971486  100.0  0.132467  604.500005  594.879996   \n",
       "\n",
       "                  ATR    MEDPRICE        MFI         OBV      ROCP      ROCR  \n",
       "2011-11-14  12.528019  612.929983  63.053353  62222400.0  0.036033  1.036033  \n",
       "2011-11-15  12.363085  614.289980  64.539849  67569000.0  0.042050  1.042050  \n",
       "2011-11-16  12.207317  614.455006  65.730334  62357300.0  0.049896  1.049896  \n",
       "2011-11-17  12.317406  604.535005  60.362092  55377700.0  0.017544  1.017544  \n",
       "2011-11-18  12.265158  599.125015  59.982937  48808900.0  0.024419  1.024419  "
      ]
     },
     "execution_count": 224,
     "metadata": {},
     "output_type": "execute_result"
    }
   ],
   "source": [
    "X.head()"
   ]
  },
  {
   "cell_type": "code",
   "execution_count": 225,
   "metadata": {
    "collapsed": false
   },
   "outputs": [
    {
     "data": {
      "text/plain": [
       "(1236, 1)"
      ]
     },
     "execution_count": 225,
     "metadata": {},
     "output_type": "execute_result"
    }
   ],
   "source": [
    "Y.shape"
   ]
  },
  {
   "cell_type": "code",
   "execution_count": 226,
   "metadata": {
    "collapsed": false
   },
   "outputs": [
    {
     "name": "stdout",
     "output_type": "stream",
     "text": [
      "(1236, 17)\n",
      "<class 'pandas.core.frame.DataFrame'>\n"
     ]
    }
   ],
   "source": [
    "print X.shape\n",
    "print type(Y)"
   ]
  },
  {
   "cell_type": "code",
   "execution_count": 227,
   "metadata": {
    "collapsed": true
   },
   "outputs": [],
   "source": [
    "def MSE(predicted, test_label):\n",
    "    if len(predicted.shape)==1:\n",
    "        predicted=np.expand_dims(predicted,axis=1)\n",
    "    return ((predicted-test_label)**2).mean()"
   ]
  },
  {
   "cell_type": "code",
   "execution_count": 228,
   "metadata": {
    "collapsed": true
   },
   "outputs": [],
   "source": [
    "def MAE(predicted, test_label):\n",
    "    if len(predicted.shape)==1:\n",
    "        predicted=np.expand_dims(predicted,axis=1)\n",
    "    return ((predicted-test_label)**2).mean()"
   ]
  },
  {
   "cell_type": "code",
   "execution_count": 229,
   "metadata": {
    "collapsed": true
   },
   "outputs": [],
   "source": [
    "\n",
    "def plot_MSE(alp,error,r_name = 'RidgeRegressor'):\n",
    "        plt.title('MSE vs Alpha')\n",
    "        plt.plot(alp, error)\n",
    "        plt.xscale('log')\n",
    "        plt.xlabel('Alpha')\n",
    "        plt.ylabel('MSE')\n",
    "        directory = './'+r_name+'/'\n",
    "        if not os.path.exists(directory):\n",
    "            os.makedirs(directory)\n",
    "        plt.savefig(directory + 'MSE'+ '.png')\n",
    "        plt.close()"
   ]
  },
  {
   "cell_type": "code",
   "execution_count": null,
   "metadata": {
    "collapsed": false
   },
   "outputs": [],
   "source": []
  },
  {
   "cell_type": "code",
   "execution_count": 230,
   "metadata": {
    "collapsed": false
   },
   "outputs": [
    {
     "name": "stdout",
     "output_type": "stream",
     "text": [
      "{'elastic_reg': <function elastic_reg at 0x7facbde0a050>, 'ridge_reg': <function ridge_reg at 0x7facbdd43aa0>, 'linear_reg': <function linear_reg at 0x7facbdc78f50>, 'svm_reg': <function svm_reg at 0x7facbde0a0c8>, 'randomForest_reg': <function randomForest_reg at 0x7facbdd43cf8>, 'lasso_reg': <function lasso_reg at 0x7facbdd4fd70>, 'ann_reg': <function ann_reg at 0x7facbdd4fde8>}\n"
     ]
    }
   ],
   "source": [
    "from inspect import getmembers, isfunction\n",
    "import regressors24\n",
    "\n",
    "functions_list = [o for o in getmembers(regressors24) if isfunction(o[1])]\n",
    "regressor_dict= dict(functions_list)\n",
    "print regressor_dict"
   ]
  },
  {
   "cell_type": "code",
   "execution_count": 231,
   "metadata": {
    "collapsed": false
   },
   "outputs": [],
   "source": [
    "from sklearn.metrics import make_scorer\n",
    "from sklearn.tree import DecisionTreeRegressor\n",
    "from sklearn.metrics import r2_score\n",
    "from sklearn.metrics import mean_absolute_error\n",
    "from sklearn.metrics import mean_squared_error\n",
    "from sklearn.model_selection import GridSearchCV\n",
    "from sklearn.cross_validation import ShuffleSplit\n",
    "def fit_model(X, y,cv_iter,model_str,index=1):\n",
    "    \"\"\" Performs grid search over the 'max_depth' parameter for a \n",
    "        decision tree regressor trained on the input data [X, y]. \"\"\"\n",
    "    regressor,params= regressor_dict[regressor_dict.keys()[index]]()\n",
    "    scoring_fnc = make_scorer(mean_squared_error)\n",
    "    grid = GridSearchCV(regressor, params,scoring=scoring_fnc,cv=cv_iter)\n",
    "    grid = grid.fit(X, y)\n",
    "    return grid"
   ]
  },
  {
   "cell_type": "code",
   "execution_count": 232,
   "metadata": {
    "collapsed": false
   },
   "outputs": [],
   "source": [
    "def plot_prediction(price,dates_df,model_name,ticker,save=False):\n",
    "    plt.title(model_name)\n",
    "    plt.xlabel('Date')\n",
    "    plt.ylabel('Price')\n",
    "    plt.plot(price,label='Actual Price')\n",
    "    plt.plot(dates_df, label='Predicted Price')\n",
    "    plt.legend(loc='upper left')\n",
    "    plt.xticks(rotation='vertical')\n",
    "    plt.subplots_adjust(bottom=0.3)\n",
    "    if save:\n",
    "        directory = './Predictions/'+model_name+'/'\n",
    "        if not os.path.exists(directory):\n",
    "            os.makedirs(directory)\n",
    "        plt.savefig(directory+'prediction'+ticker+'.png')\n",
    "    else:\n",
    "        plt.show()\n",
    "    plt.close()"
   ]
  },
  {
   "cell_type": "code",
   "execution_count": null,
   "metadata": {
    "collapsed": false
   },
   "outputs": [],
   "source": []
  },
  {
   "cell_type": "code",
   "execution_count": 233,
   "metadata": {
    "collapsed": true
   },
   "outputs": [],
   "source": [
    "from collections import deque\n",
    "def get_last_cv(splits):\n",
    "    dd = deque(splits, maxlen=1)\n",
    "    last_element = dd.pop()\n",
    "    train,test = last_element\n",
    "    return train,test"
   ]
  },
  {
   "cell_type": "code",
   "execution_count": 234,
   "metadata": {
    "collapsed": true
   },
   "outputs": [],
   "source": [
    "def poly(X,y):\n",
    "    for degree in [1,2,3]:\n",
    "        poly = PolynomialFeatures(degree)\n",
    "        X_ = poly.fit_transform(X)\n",
    "        #X_plot_ = poly.fit_transform(X_plot)\n",
    "        model = linear_model.LassoCV()\n",
    "        model.fit(X_, y)\n",
    "#         print \"chosen alpha %d\" % model.alpha_\n",
    "#         y_plot = model.predict(X_plot_)\n",
    "#         plt.plot(x_plot, y_plot, label=\"degree %d\" % degree)\n",
    "    return model"
   ]
  },
  {
   "cell_type": "code",
   "execution_count": 235,
   "metadata": {
    "collapsed": true
   },
   "outputs": [],
   "source": [
    "def poly_transform(train,test,degree):\n",
    "    poly = PolynomialFeatures(degree)\n",
    "    train = poly.fit_transform(train)\n",
    "    test = poly.fit_transform(test)\n",
    "    return train,test"
   ]
  },
  {
   "cell_type": "code",
   "execution_count": 236,
   "metadata": {
    "collapsed": true
   },
   "outputs": [],
   "source": [
    "#http://stackoverflow.com/questions/1176136/convert-string-to-python-class-object\n",
    "import importlib\n",
    "\n",
    "def class_for_name(module_name, class_name):\n",
    "    # load the module, will raise ImportError if module cannot be loaded\n",
    "    m = importlib.import_module(module_name)\n",
    "    # get the class, will raise AttributeError if class cannot be found\n",
    "    c = getattr(m, class_name)\n",
    "    return c"
   ]
  },
  {
   "cell_type": "code",
   "execution_count": 237,
   "metadata": {
    "collapsed": false
   },
   "outputs": [
    {
     "name": "stdout",
     "output_type": "stream",
     "text": [
      "['elastic_reg', 'ridge_reg', 'linear_reg', 'svm_reg', 'randomForest_reg', 'lasso_reg', 'ann_reg']\n"
     ]
    }
   ],
   "source": [
    "print regressor_dict.keys()"
   ]
  },
  {
   "cell_type": "code",
   "execution_count": 238,
   "metadata": {
    "collapsed": true
   },
   "outputs": [],
   "source": [
    "# import itertools\n",
    "# comb = list(itertools.product(*params.values()[::-1]))\n",
    "# print comb"
   ]
  },
  {
   "cell_type": "code",
   "execution_count": 241,
   "metadata": {
    "collapsed": false
   },
   "outputs": [
    {
     "name": "stdout",
     "output_type": "stream",
     "text": [
      "[ 1442.85531146  1442.96643934  1444.01247427  1448.88943383  1453.03167185\n",
      "  1453.79468251  1450.73349316  1418.05912955  1211.53020438]\n"
     ]
    },
    {
     "data": {
      "image/png": "[encoded data removed]",
      "text/plain": [
       "<matplotlib.figure.Figure at 0x7facbdeeb8d0>"
      ]
     },
     "metadata": {},
     "output_type": "display_data"
    },
    {
     "name": "stdout",
     "output_type": "stream",
     "text": [
      "Adj Close    3.414625\n",
      "dtype: float64\n",
      "Adj Close    0.083412\n",
      "dtype: float64\n",
      "0.979870013109\n"
     ]
    }
   ],
   "source": [
    "from sklearn import linear_model\n",
    "from sklearn.metrics import r2_score\n",
    "import sklearn\n",
    "import inspect\n",
    "from sklearn.pipeline import Pipeline\n",
    "check=[]\n",
    "def f(n=30,n_spl=5,analyse_cv=True,poly_t=False):\n",
    "    index = 1\n",
    "    SEED = 100\n",
    "    random_state = np.random.RandomState(SEED)\n",
    "    tscv = TimeSeriesSplit(n_splits=n_spl)\n",
    "    grid=fit_model(X.values,Y.values,tscv.split(X),'r',index)\n",
    "    params = grid.best_params_ \n",
    "    reg ,_= regressor_dict[regressor_dict.keys()[index]]()\n",
    "    reg.set_params(**params)\n",
    "    #print type(reg).__name__\n",
    "    if analyse_cv:\n",
    "        mse=[]\n",
    "        mae=[]\n",
    "        r_2=[]\n",
    "        \n",
    "        print grid.cv_results_['mean_test_score']\n",
    "        error =  grid.cv_results_['mean_test_score']\n",
    "        grid_params =list(grid.cv_results_['params'])\n",
    "        global check\n",
    "        if len(grid_params[0].keys())>1:\n",
    "            parameters = list(itertools.product(*grid_params.values()[::-1]))\n",
    "        else:\n",
    "            parameters =[f[grid_params[0].keys()[0]] for f in grid_params]\n",
    "        plot_MSE(parameters,error)\n",
    "    else:\n",
    "        tscv = TimeSeriesSplit(len(X)/n)\n",
    "    train_index,test_index = get_last_cv(tscv.split(X))\n",
    "    X_train ,X_test= X.iloc[train_index],X.iloc[test_index]\n",
    "    y_train, y_test = Y.iloc[train_index], Y.iloc[test_index]\n",
    "    if poly_t:\n",
    "        X_train,X_test = poly_transform(X_train,X_test,2)\n",
    "    reg.fit(X_train,y_train)\n",
    "    prediction = reg.predict(X_test)\n",
    "    #print prediction.shape\n",
    "    df = pd.Series(prediction.flatten(), index=y_test.index)\n",
    "    price = y_train.append(y_test)\n",
    "    plot_prediction(price,df,'model_name',ticker)\n",
    "    p_l = map(lambda x:[x],prediction)\n",
    "    #print np.expand_dims(prediction, axis=0).shape\n",
    "    if len(prediction.shape)==1:\n",
    "        prediction=np.expand_dims(prediction,axis=1)\n",
    "    print np.mean(abs(np.asarray(prediction)-y_test))\n",
    "    print np.mean((np.asarray(prediction)-y_test))**2\n",
    "    print reg.score(X_test,y_test)\n",
    "    return reg\n",
    "model =f(analyse_cv=True)"
   ]
  },
  {
   "cell_type": "code",
   "execution_count": 240,
   "metadata": {
    "collapsed": false
   },
   "outputs": [
    {
     "data": {
      "text/html": [
       "<div>\n",
       "<table border=\"1\" class=\"dataframe\">\n",
       "  <thead>\n",
       "    <tr style=\"text-align: right;\">\n",
       "      <th></th>\n",
       "      <th>ema10</th>\n",
       "      <th>ema20</th>\n",
       "      <th>sma10</th>\n",
       "      <th>sma20</th>\n",
       "      <th>rsi</th>\n",
       "      <th>drr</th>\n",
       "      <th>mom</th>\n",
       "      <th>will</th>\n",
       "      <th>Volume</th>\n",
       "      <th>High</th>\n",
       "      <th>Close</th>\n",
       "      <th>ATR</th>\n",
       "      <th>MEDPRICE</th>\n",
       "      <th>MFI</th>\n",
       "      <th>OBV</th>\n",
       "      <th>ROCP</th>\n",
       "      <th>ROCR</th>\n",
       "    </tr>\n",
       "  </thead>\n",
       "  <tbody>\n",
       "    <tr>\n",
       "      <th>2011-11-14</th>\n",
       "      <td>302.750433</td>\n",
       "      <td>300.739430</td>\n",
       "      <td>302.654163</td>\n",
       "      <td>299.854360</td>\n",
       "      <td>66.407127</td>\n",
       "      <td>0.007644</td>\n",
       "      <td>1.028282</td>\n",
       "      <td>0.0</td>\n",
       "      <td>0.124340</td>\n",
       "      <td>618.079979</td>\n",
       "      <td>612.999981</td>\n",
       "      <td>12.528019</td>\n",
       "      <td>612.929983</td>\n",
       "      <td>63.053353</td>\n",
       "      <td>62222400.0</td>\n",
       "      <td>0.036033</td>\n",
       "      <td>1.036033</td>\n",
       "    </tr>\n",
       "    <tr>\n",
       "      <th>2011-11-15</th>\n",
       "      <td>303.813074</td>\n",
       "      <td>301.512703</td>\n",
       "      <td>303.676185</td>\n",
       "      <td>300.611367</td>\n",
       "      <td>68.583899</td>\n",
       "      <td>0.005808</td>\n",
       "      <td>1.034254</td>\n",
       "      <td>0.0</td>\n",
       "      <td>0.082252</td>\n",
       "      <td>618.079979</td>\n",
       "      <td>616.560016</td>\n",
       "      <td>12.363085</td>\n",
       "      <td>614.289980</td>\n",
       "      <td>64.539849</td>\n",
       "      <td>67569000.0</td>\n",
       "      <td>0.042050</td>\n",
       "      <td>1.042050</td>\n",
       "    </tr>\n",
       "    <tr>\n",
       "      <th>2011-11-16</th>\n",
       "      <td>304.218522</td>\n",
       "      <td>301.957362</td>\n",
       "      <td>304.443452</td>\n",
       "      <td>300.931687</td>\n",
       "      <td>62.768608</td>\n",
       "      <td>-0.008255</td>\n",
       "      <td>1.025715</td>\n",
       "      <td>100.0</td>\n",
       "      <td>0.076710</td>\n",
       "      <td>618.300034</td>\n",
       "      <td>611.470018</td>\n",
       "      <td>12.207317</td>\n",
       "      <td>614.455006</td>\n",
       "      <td>65.730334</td>\n",
       "      <td>62357300.0</td>\n",
       "      <td>0.049896</td>\n",
       "      <td>1.049896</td>\n",
       "    </tr>\n",
       "    <tr>\n",
       "      <th>2011-11-17</th>\n",
       "      <td>303.584829</td>\n",
       "      <td>301.837760</td>\n",
       "      <td>304.070078</td>\n",
       "      <td>300.949957</td>\n",
       "      <td>43.617383</td>\n",
       "      <td>-0.017335</td>\n",
       "      <td>0.987737</td>\n",
       "      <td>100.0</td>\n",
       "      <td>0.149345</td>\n",
       "      <td>612.289998</td>\n",
       "      <td>600.870033</td>\n",
       "      <td>12.317406</td>\n",
       "      <td>604.535005</td>\n",
       "      <td>60.362092</td>\n",
       "      <td>55377700.0</td>\n",
       "      <td>0.017544</td>\n",
       "      <td>1.017544</td>\n",
       "    </tr>\n",
       "    <tr>\n",
       "      <th>2011-11-18</th>\n",
       "      <td>302.521087</td>\n",
       "      <td>301.437414</td>\n",
       "      <td>303.196204</td>\n",
       "      <td>300.818325</td>\n",
       "      <td>35.551154</td>\n",
       "      <td>-0.009969</td>\n",
       "      <td>0.971486</td>\n",
       "      <td>100.0</td>\n",
       "      <td>0.132467</td>\n",
       "      <td>604.500005</td>\n",
       "      <td>594.879996</td>\n",
       "      <td>12.265158</td>\n",
       "      <td>599.125015</td>\n",
       "      <td>59.982937</td>\n",
       "      <td>48808900.0</td>\n",
       "      <td>0.024419</td>\n",
       "      <td>1.024419</td>\n",
       "    </tr>\n",
       "  </tbody>\n",
       "</table>\n",
       "</div>"
      ],
      "text/plain": [
       "                 ema10       ema20       sma10       sma20        rsi  \\\n",
       "2011-11-14  302.750433  300.739430  302.654163  299.854360  66.407127   \n",
       "2011-11-15  303.813074  301.512703  303.676185  300.611367  68.583899   \n",
       "2011-11-16  304.218522  301.957362  304.443452  300.931687  62.768608   \n",
       "2011-11-17  303.584829  301.837760  304.070078  300.949957  43.617383   \n",
       "2011-11-18  302.521087  301.437414  303.196204  300.818325  35.551154   \n",
       "\n",
       "                 drr       mom   will    Volume        High       Close  \\\n",
       "2011-11-14  0.007644  1.028282    0.0  0.124340  618.079979  612.999981   \n",
       "2011-11-15  0.005808  1.034254    0.0  0.082252  618.079979  616.560016   \n",
       "2011-11-16 -0.008255  1.025715  100.0  0.076710  618.300034  611.470018   \n",
       "2011-11-17 -0.017335  0.987737  100.0  0.149345  612.289998  600.870033   \n",
       "2011-11-18 -0.009969  0.971486  100.0  0.132467  604.500005  594.879996   \n",
       "\n",
       "                  ATR    MEDPRICE        MFI         OBV      ROCP      ROCR  \n",
       "2011-11-14  12.528019  612.929983  63.053353  62222400.0  0.036033  1.036033  \n",
       "2011-11-15  12.363085  614.289980  64.539849  67569000.0  0.042050  1.042050  \n",
       "2011-11-16  12.207317  614.455006  65.730334  62357300.0  0.049896  1.049896  \n",
       "2011-11-17  12.317406  604.535005  60.362092  55377700.0  0.017544  1.017544  \n",
       "2011-11-18  12.265158  599.125015  59.982937  48808900.0  0.024419  1.024419  "
      ]
     },
     "execution_count": 240,
     "metadata": {},
     "output_type": "execute_result"
    }
   ],
   "source": [
    "X.head()"
   ]
  },
  {
   "cell_type": "code",
   "execution_count": 112,
   "metadata": {
    "collapsed": false
   },
   "outputs": [
    {
     "data": {
      "text/plain": [
       "24"
      ]
     },
     "execution_count": 112,
     "metadata": {},
     "output_type": "execute_result"
    }
   ],
   "source": [
    "len(X)/60"
   ]
  },
  {
   "cell_type": "code",
   "execution_count": 84,
   "metadata": {
    "collapsed": false
   },
   "outputs": [
    {
     "data": {
      "text/plain": [
       "[{'max_features': 'auto', 'n_estimators': 10},\n",
       " {'max_features': 'auto', 'n_estimators': 20},\n",
       " {'max_features': 'auto', 'n_estimators': 30},\n",
       " {'max_features': 'auto', 'n_estimators': 40},\n",
       " {'max_features': 'auto', 'n_estimators': 50},\n",
       " {'max_features': 'auto', 'n_estimators': 60},\n",
       " {'max_features': 'auto', 'n_estimators': 70},\n",
       " {'max_features': 'auto', 'n_estimators': 80},\n",
       " {'max_features': 'auto', 'n_estimators': 90},\n",
       " {'max_features': 'auto', 'n_estimators': 100},\n",
       " {'max_features': 'auto', 'n_estimators': 110},\n",
       " {'max_features': 'auto', 'n_estimators': 120},\n",
       " {'max_features': 'auto', 'n_estimators': 130},\n",
       " {'max_features': 'auto', 'n_estimators': 140},\n",
       " {'max_features': 'auto', 'n_estimators': 150},\n",
       " {'max_features': 'auto', 'n_estimators': 160},\n",
       " {'max_features': 'auto', 'n_estimators': 170},\n",
       " {'max_features': 'log2', 'n_estimators': 10},\n",
       " {'max_features': 'log2', 'n_estimators': 20},\n",
       " {'max_features': 'log2', 'n_estimators': 30},\n",
       " {'max_features': 'log2', 'n_estimators': 40},\n",
       " {'max_features': 'log2', 'n_estimators': 50},\n",
       " {'max_features': 'log2', 'n_estimators': 60},\n",
       " {'max_features': 'log2', 'n_estimators': 70},\n",
       " {'max_features': 'log2', 'n_estimators': 80},\n",
       " {'max_features': 'log2', 'n_estimators': 90},\n",
       " {'max_features': 'log2', 'n_estimators': 100},\n",
       " {'max_features': 'log2', 'n_estimators': 110},\n",
       " {'max_features': 'log2', 'n_estimators': 120},\n",
       " {'max_features': 'log2', 'n_estimators': 130},\n",
       " {'max_features': 'log2', 'n_estimators': 140},\n",
       " {'max_features': 'log2', 'n_estimators': 150},\n",
       " {'max_features': 'log2', 'n_estimators': 160},\n",
       " {'max_features': 'log2', 'n_estimators': 170},\n",
       " {'max_features': 'sqrt', 'n_estimators': 10},\n",
       " {'max_features': 'sqrt', 'n_estimators': 20},\n",
       " {'max_features': 'sqrt', 'n_estimators': 30},\n",
       " {'max_features': 'sqrt', 'n_estimators': 40},\n",
       " {'max_features': 'sqrt', 'n_estimators': 50},\n",
       " {'max_features': 'sqrt', 'n_estimators': 60},\n",
       " {'max_features': 'sqrt', 'n_estimators': 70},\n",
       " {'max_features': 'sqrt', 'n_estimators': 80},\n",
       " {'max_features': 'sqrt', 'n_estimators': 90},\n",
       " {'max_features': 'sqrt', 'n_estimators': 100},\n",
       " {'max_features': 'sqrt', 'n_estimators': 110},\n",
       " {'max_features': 'sqrt', 'n_estimators': 120},\n",
       " {'max_features': 'sqrt', 'n_estimators': 130},\n",
       " {'max_features': 'sqrt', 'n_estimators': 140},\n",
       " {'max_features': 'sqrt', 'n_estimators': 150},\n",
       " {'max_features': 'sqrt', 'n_estimators': 160},\n",
       " {'max_features': 'sqrt', 'n_estimators': 170}]"
      ]
     },
     "execution_count": 84,
     "metadata": {},
     "output_type": "execute_result"
    }
   ],
   "source": [
    "check"
   ]
  },
  {
   "cell_type": "code",
   "execution_count": 85,
   "metadata": {
    "collapsed": false
   },
   "outputs": [
    {
     "ename": "NameError",
     "evalue": "name 'prediction' is not defined",
     "output_type": "error",
     "traceback": [
      "\u001b[0;31m---------------------------------------------------------------------------\u001b[0m",
      "\u001b[0;31mNameError\u001b[0m                                 Traceback (most recent call last)",
      "\u001b[0;32m<ipython-input-85-62062847dd15>\u001b[0m in \u001b[0;36m<module>\u001b[0;34m()\u001b[0m\n\u001b[1;32m      4\u001b[0m \u001b[0my_test\u001b[0m \u001b[0;34m=\u001b[0m \u001b[0mY\u001b[0m\u001b[0;34m.\u001b[0m\u001b[0mix\u001b[0m\u001b[0;34m[\u001b[0m\u001b[0;36m0\u001b[0m\u001b[0;34m:\u001b[0m\u001b[0;36m50\u001b[0m\u001b[0;34m,\u001b[0m\u001b[0;34m]\u001b[0m\u001b[0;34m\u001b[0m\u001b[0m\n\u001b[1;32m      5\u001b[0m \u001b[0mreg\u001b[0m\u001b[0;34m=\u001b[0m\u001b[0mmodel\u001b[0m\u001b[0;34m\u001b[0m\u001b[0m\n\u001b[0;32m----> 6\u001b[0;31m \u001b[0;32mprint\u001b[0m \u001b[0mprediction\u001b[0m\u001b[0;34m.\u001b[0m\u001b[0mshape\u001b[0m\u001b[0;34m\u001b[0m\u001b[0m\n\u001b[0m\u001b[1;32m      7\u001b[0m \u001b[0mdf\u001b[0m \u001b[0;34m=\u001b[0m \u001b[0mpd\u001b[0m\u001b[0;34m.\u001b[0m\u001b[0mSeries\u001b[0m\u001b[0;34m(\u001b[0m\u001b[0mprediction\u001b[0m\u001b[0;34m.\u001b[0m\u001b[0mflatten\u001b[0m\u001b[0;34m(\u001b[0m\u001b[0;34m)\u001b[0m\u001b[0;34m,\u001b[0m \u001b[0mindex\u001b[0m\u001b[0;34m=\u001b[0m\u001b[0my_test\u001b[0m\u001b[0;34m.\u001b[0m\u001b[0mindex\u001b[0m\u001b[0;34m)\u001b[0m\u001b[0;34m\u001b[0m\u001b[0m\n\u001b[1;32m      8\u001b[0m \u001b[0mprice\u001b[0m \u001b[0;34m=\u001b[0m \u001b[0my_train\u001b[0m\u001b[0;34m.\u001b[0m\u001b[0mappend\u001b[0m\u001b[0;34m(\u001b[0m\u001b[0my_test\u001b[0m\u001b[0;34m)\u001b[0m\u001b[0;34m\u001b[0m\u001b[0m\n",
      "\u001b[0;31mNameError\u001b[0m: name 'prediction' is not defined"
     ]
    }
   ],
   "source": [
    "X_test =X.ix[-50:, ]\n",
    "X_train = X.ix[0:-50, ]\n",
    "y_train = Y.ix[-50:]\n",
    "y_test = Y.ix[0:50,]\n",
    "reg=model\n",
    "print prediction.shape\n",
    "df = pd.Series(prediction.flatten(), index=y_test.index)\n",
    "price = y_train.append(y_test)\n",
    "plot_prediction(price,df,'model_name',ticker)\n",
    "p_l = map(lambda x:[x],prediction)\n",
    "print np.expand_dims(prediction, axis=0).shape\n",
    "if len(prediction.shape)==1:\n",
    "    prediction=np.expand_dims(prediction,axis=1)\n",
    "print np.mean(abs(np.asarray(prediction)-y_test))\n",
    "print np.mean((np.asarray(prediction)-y_test))**2\n",
    "print reg.score(X_test,y_test)"
   ]
  },
  {
   "cell_type": "code",
   "execution_count": 135,
   "metadata": {
    "collapsed": false
   },
   "outputs": [
    {
     "name": "stdout",
     "output_type": "stream",
     "text": [
      "<type 'generator'>\n",
      "                 ema10       ema20       sma10       sma20         rsi  \\\n",
      "2010-11-12  309.379980  308.961587  311.043043  309.535038   32.236738   \n",
      "2010-11-15  305.302025  306.694005  307.665669  308.394398    5.122818   \n",
      "2010-11-16  302.909010  305.266074  305.595600  307.574828    3.777425   \n",
      "2010-11-17  300.936312  303.973824  303.517023  306.698202    3.763127   \n",
      "2010-11-18  300.507379  303.447007  302.005012  306.269273   23.137107   \n",
      "2010-11-19  299.634835  302.693413  300.303812  305.696951   21.679723   \n",
      "2010-11-22  297.895019  300.870821  296.776289  303.909666   34.473861   \n",
      "2010-11-23  296.786007  299.993518  295.761271  302.979485   28.462140   \n",
      "2010-11-24  296.967271  299.780086  295.344853  302.246252   42.953899   \n",
      "2010-11-26  296.784568  299.174153  295.634141  300.614871   57.065670   \n",
      "2010-11-29  295.392900  297.780591  295.192195  297.748003   36.953888   \n",
      "2010-11-30  292.254596  295.895425  293.434437  296.067074   20.645274   \n",
      "2010-12-01  290.473220  294.606974  292.109110  294.744752   30.660214   \n",
      "2010-12-02  289.695553  293.801055  291.138139  293.957214   37.159109   \n",
      "2010-12-03  289.166669  293.129339  290.637138  293.199204   42.694488   \n",
      "2010-12-06  288.578020  291.734107  287.855356  291.744749   39.778740   \n",
      "2010-12-07  289.539095  291.937690  287.712214  291.834588   47.824106   \n",
      "2010-12-08  290.634827  292.284356  287.739240  291.683936   50.390617   \n",
      "2010-12-09  291.618695  292.643695  288.209211  291.700703   57.549464   \n",
      "2010-12-10  292.488285  293.002550  290.036036  291.735236  100.000000   \n",
      "2010-12-13  294.477473  294.000994  293.533033  292.085085  100.000000   \n",
      "2010-12-14  295.072980  294.358958  294.629630  292.083584  100.000000   \n",
      "2010-12-15  295.140699  294.462603  295.495496  291.966717   82.616873   \n",
      "2010-12-16  295.324419  294.623659  296.163664  292.009510   79.574613   \n",
      "2010-12-17  295.391927  294.725898  296.346848  292.029531   62.449085   \n",
      "2010-12-20  295.916984  295.180950  296.467472  293.251754   60.259174   \n",
      "2010-12-21  296.993320  295.815418  297.011014  294.220722   74.794525   \n",
      "2010-12-22  298.094179  296.504805  297.675678  295.063314   77.302644   \n",
      "2010-12-23  298.880223  297.068329  298.156660  295.844846   70.738110   \n",
      "2010-12-27  300.663964  298.745665  300.526530  298.436689   82.528099   \n",
      "...                ...         ...         ...         ...         ...   \n",
      "2016-08-31  794.066359  794.928208  793.568988  798.555496   23.991499   \n",
      "2016-09-01  793.581571  794.592190  793.013989  797.772998   34.313313   \n",
      "2016-09-02  794.179466  794.809124  793.041986  797.263998   50.613962   \n",
      "2016-09-06  797.691579  796.550920  795.770996  796.214499   77.673874   \n",
      "2016-09-07  799.564017  797.640355  797.247998  796.476498   77.586741   \n",
      "2016-09-08  800.159655  798.135562  797.950000  796.635999   61.971357   \n",
      "2016-09-09  798.036078  797.215983  797.606000  796.077496   45.676225   \n",
      "2016-09-12  795.593941  795.934914  797.371997  795.206992   52.376319   \n",
      "2016-09-13  794.344128  795.247777  796.556995  794.962991   42.030116   \n",
      "2016-09-14  793.637927  794.791800  795.915997  794.920993   43.938007   \n",
      "2016-09-15  795.018300  795.404960  796.351996  795.321493   53.425499   \n",
      "2016-09-16  795.554968  795.649247  795.346991  795.558993   40.986523   \n",
      "2016-09-19  796.178170  796.005457  794.548987  796.077493   58.906971   \n",
      "2016-09-20  796.833054  796.364940  795.678992  796.573996   63.084803   \n",
      "2016-09-21  798.323413  797.190186  797.333997  797.255496   67.086549   \n",
      "2016-09-22  801.528249  798.976836  799.046997  798.209497   67.476028   \n",
      "2016-09-23  803.970390  800.499045  801.671002  799.113998   82.882302   \n",
      "2016-09-26  806.702726  803.077368  805.962012  800.654501   56.421598   \n",
      "2016-09-27  807.434954  803.806188  807.238013  800.791501   64.330681   \n",
      "2016-09-28  807.912234  804.401789  808.447015  801.152499   63.376919   \n",
      "2016-09-29  806.953649  804.234001  809.172015  801.860501   57.245666   \n",
      "2016-09-30  806.427531  804.217429  809.600012  802.639502   54.547365   \n",
      "2016-10-03  804.687626  803.826121  806.856006  804.263504   28.290556   \n",
      "2016-10-04  804.342599  803.727441  805.639002  804.880002   33.092403   \n",
      "2016-10-05  803.776668  803.489587  804.265997  804.880002   31.717589   \n",
      "2016-10-06  803.650005  803.450581  804.308997  805.135504   50.793641   \n",
      "2016-10-07  803.115462  803.189575  803.307001  805.272507   26.566922   \n",
      "2016-10-10  804.474768  803.828361  803.190003  806.395007   69.956578   \n",
      "2016-10-11  805.401175  804.375185  803.741003  806.622006   59.204847   \n",
      "2016-10-12  806.559147  805.079455  804.512006  806.413007   61.998187   \n",
      "\n",
      "                 drr       mom   will    Volume        High       Close  \\\n",
      "2010-11-12 -0.022521  0.980003  100.0  0.108036  616.900008  603.290035   \n",
      "2010-11-15 -0.012962  0.952630  100.0  0.114267  604.000017  595.469982   \n",
      "2010-11-16 -0.019732  0.933833  100.0  0.101823  597.889984  583.720024   \n",
      "2010-11-17 -0.000291  0.933561  100.0  0.039075  589.500005  583.550029   \n",
      "2010-11-18  0.022295  0.951801    0.0  0.049776  599.979994  596.560016   \n",
      "2010-11-19 -0.009605  0.945600  100.0  0.028555  597.889984  590.830034   \n",
      "2010-11-22  0.000660  0.979993    0.0  0.020508  593.440031  591.220024   \n",
      "2010-11-23 -0.013887  0.966384  100.0  0.018765  589.010017  583.009981   \n",
      "2010-11-24  0.020514  0.986209    0.0  0.035730  596.600015  594.969994   \n",
      "2010-11-26 -0.008353  1.010759  100.0 -0.043013  592.979981  589.999993   \n",
      "2010-11-29 -0.013373  0.985241  100.0  0.069341  589.799998  582.110003   \n",
      "2010-11-30 -0.045352  0.940558  100.0  0.378248  574.320010  555.710037   \n",
      "2010-12-01  0.015548  0.955182    0.0  0.134232  571.570016  564.350009   \n",
      "2010-12-02  0.013236  0.967186    0.0  0.046722  573.330034  571.820010   \n",
      "2010-12-03  0.002064  0.982830    0.0  0.052765  576.480018  572.999981   \n",
      "2010-12-06  0.009354  0.980271    0.0  0.013776  582.000005  578.360033   \n",
      "2010-12-07  0.015181  0.995153    0.0  0.082584  592.999981  587.140002   \n",
      "2010-12-08  0.005791  1.000915    0.0 -0.010670  592.519993  590.539980   \n",
      "2010-12-09  0.001626  1.016131    0.0 -0.002543  595.579979  591.500018   \n",
      "2010-12-10  0.001200  1.065682    0.0 -0.014457  593.990018  592.210000   \n",
      "2010-12-13  0.004070  1.037731    0.0  0.035883  602.999981  594.620002   \n",
      "2010-12-14  0.000488  1.038237    0.0 -0.018909  598.290035  594.909995   \n",
      "2010-12-15 -0.007749  1.030192  100.0  0.019136  596.450019  590.299986   \n",
      "2010-12-16  0.002389  1.023082    0.0 -0.022275  593.770023  591.710012   \n",
      "2010-12-17 -0.001538  1.006234  100.0  0.085842  592.559992  590.800035   \n",
      "2010-12-20  0.007210  1.004812    0.0  0.005032  597.879984  595.059992   \n",
      "2010-12-21  0.013461  1.018338    0.0 -0.001773  604.720000  603.069979   \n",
      "2010-12-22  0.004013  1.022424    0.0 -0.050530  607.000005  605.489981   \n",
      "2010-12-23 -0.002081  1.016162  100.0 -0.057546  606.000030  604.230012   \n",
      "2010-12-27 -0.003062  1.019600  100.0 -0.050486  603.780023  602.379996   \n",
      "...              ...       ...    ...       ...         ...         ...   \n",
      "2016-08-31 -0.002614  0.987745  100.0 -0.099229  791.570007  789.849976   \n",
      "2016-09-01  0.001962  0.993036    0.0 -0.090801  792.890015  791.400024   \n",
      "2016-09-02  0.006912  1.000351    0.0 -0.089116  797.099976  796.869995   \n",
      "2016-09-06  0.013992  1.018658    0.0 -0.065890  810.890015  808.020020   \n",
      "2016-09-07 -0.000037  1.018620  100.0 -0.096545  810.599976  807.989990   \n",
      "2016-09-08 -0.006374  1.008821  100.0 -0.095369  808.419983  802.840027   \n",
      "2016-09-09 -0.017887  0.995656  100.0 -0.069590  801.750000  788.479980   \n",
      "2016-09-12  0.013114  1.002447    0.0 -0.070458  800.169983  798.820007   \n",
      "2016-09-13 -0.012644  0.989772  100.0 -0.072445  795.789978  788.719971   \n",
      "2016-09-14  0.002206  0.991956    0.0 -0.091215  796.330017  790.460022   \n",
      "2016-09-15  0.013625  1.005471    0.0 -0.081588  803.650024  801.229980   \n",
      "2016-09-16 -0.004069  0.987562  100.0 -0.060767  799.020020  797.969971   \n",
      "2016-09-19 -0.003233  1.008764  100.0 -0.096393  803.989990  795.390015   \n",
      "2016-09-20  0.005519  1.014331    0.0 -0.100035  802.750000  799.780029   \n",
      "2016-09-21  0.006564  1.020990    0.0 -0.089167  805.909973  805.030029   \n",
      "2016-09-22  0.013565  1.021444    0.0 -0.074249  819.059998  815.950012   \n",
      "2016-09-23 -0.001213  1.033269  100.0 -0.086872  817.000000  814.960022   \n",
      "2016-09-26 -0.015105  1.005865  100.0 -0.084657  810.080017  802.650024   \n",
      "2016-09-27  0.010067  1.015991    0.0 -0.088484  813.489990  810.729980   \n",
      "2016-09-28 -0.000826  1.015151  100.0 -0.084744  810.250000  810.059998   \n",
      "2016-09-29 -0.009160  1.009115  100.0 -0.089112  813.909973  802.640015   \n",
      "2016-09-30  0.001769  1.005351    0.0 -0.077848  808.090027  804.059998   \n",
      "2016-10-03 -0.004577  0.982110  100.0 -0.084057  803.539978  800.380005   \n",
      "2016-10-04  0.003011  0.985067    0.0 -0.092427  806.500000  802.789978   \n",
      "2016-10-05 -0.001943  0.983152  100.0 -0.094058  808.500000  801.229980   \n",
      "2016-10-06  0.002309  1.000536    0.0 -0.098194  806.950012  803.080017   \n",
      "2016-10-07 -0.002951  0.987641  100.0 -0.095899  805.940002  800.710022   \n",
      "2016-10-10  0.016810  1.012574    0.0 -0.083807  817.380005  814.169983   \n",
      "2016-10-11 -0.005650  1.006853  100.0 -0.075618  819.859985  809.570007   \n",
      "2016-10-12  0.002718  1.009589    0.0 -0.105166  814.500000  811.770020   \n",
      "\n",
      "                  ATR    MEDPRICE        MFI          OBV      ROCP      ROCR  \n",
      "2010-11-12  10.255331  609.055016  62.687269   62552600.0  0.110418  1.110418  \n",
      "2010-11-15  10.589549  599.025016  56.543873   55601800.0 -0.009943  0.990057  \n",
      "2010-11-16  10.717896  590.670007  53.820664   48993700.0 -0.029479  0.970521  \n",
      "2010-11-17  10.631632  585.435013  46.412170   44113600.0 -0.055301  0.944699  \n",
      "2010-11-18  10.824910  594.270011  52.267514   49288400.0 -0.018541  0.981459  \n",
      "2010-11-19  10.715746  594.114984  47.357725   44698000.0 -0.028208  0.971792  \n",
      "2010-11-22  10.514275  588.095009  40.572521   49066800.0 -0.034790  0.965210  \n",
      "2010-11-23  10.597799  583.605027  39.102625   44746000.0 -0.048194  0.951806  \n",
      "2010-11-24  10.697540  591.825009  38.155305   49534000.0 -0.034923  0.965077  \n",
      "2010-11-26  10.569646  589.989993  40.718258   46914500.0 -0.042938  0.957062  \n",
      "2010-11-29  10.261475  584.874996  37.790972   41200900.0 -0.051475  0.948525  \n",
      "2010-11-30  10.879425  563.815022  33.484462   26980400.0 -0.094492  0.905508  \n",
      "2010-12-01  11.045443  566.985006  33.908243   34481000.0 -0.082358  0.917642  \n",
      "2010-12-02  10.976596  569.340009  34.319335   39571700.0 -0.071118  0.928882  \n",
      "2010-12-03  10.893377  572.240000  33.219521   44828800.0 -0.076075  0.923925  \n",
      "2010-12-06  10.677331  579.305010  32.256017   49012200.0 -0.074742  0.925258  \n",
      "2010-12-07  10.809418  589.500006  35.765154   55090500.0 -0.060696  0.939304  \n",
      "2010-12-08  10.743437  588.105009  35.237472   58600700.0 -0.057804  0.942196  \n",
      "2010-12-09  10.604654  592.289998  38.794953   62334700.0 -0.053327  0.946673  \n",
      "2010-12-10  10.374500  592.140002  42.439772   65740600.0 -0.049239  0.950761  \n",
      "2010-12-13   9.965386  598.544998  49.727851   70532800.0 -0.014371  0.985629  \n",
      "2010-12-14   9.826875  595.385015  48.227252   73816100.0 -0.013891  0.986109  \n",
      "2010-12-15   9.742646  592.800017  49.442378   69485100.0 -0.008682  0.991318  \n",
      "2010-12-16   9.607892  590.920001  51.060287   72675700.0  0.013688  1.013688  \n",
      "2010-12-17   9.450629  590.114990  50.411437   66507700.0  0.012424  1.012424  \n",
      "2010-12-20   9.153932  593.270005  52.131923   70450300.0  0.007159  1.007159  \n",
      "2010-12-21   9.170801  601.164995  53.912393   74205500.0  0.020717  1.020717  \n",
      "2010-12-22   8.996108  605.140020  57.367211   76618000.0  0.024136  1.024136  \n",
      "2010-12-23   8.828572  604.015017  58.525221   74398700.0  0.036397  1.036397  \n",
      "2010-12-27   8.237775  601.640014  56.502824   71985000.0  0.020983  1.020983  \n",
      "...               ...         ...        ...          ...       ...       ...  \n",
      "2016-08-31   8.746836  789.385010  56.874461  252538900.0 -0.013846  0.986154  \n",
      "2016-09-01   8.673942  789.610016  55.661852  253842400.0 -0.010898  0.989102  \n",
      "2016-09-02   8.574809  795.179993  61.281190  255192300.0 -0.002566  0.997434  \n",
      "2016-09-06   8.361702  803.160004  64.302122  257181800.0  0.001351  1.001351  \n",
      "2016-09-07   8.312312  807.159973  64.194141  256036500.0  0.003428  1.003428  \n",
      "2016-09-08   8.282234  804.714996  58.511645  254858800.0 -0.005746  0.994254  \n",
      "2016-09-09   8.499161  794.899994  52.484478  252971200.0 -0.024750  0.975250  \n",
      "2016-09-12   9.101101  791.834992  55.530614  254834900.0 -0.010198  0.989802  \n",
      "2016-09-13   9.280731  790.059998  51.714773  253025900.0 -0.022712  0.977288  \n",
      "2016-09-14   9.264706  791.930023  52.338793  254318000.0 -0.019232  0.980768  \n",
      "2016-09-15   9.455551  796.154999  57.165517  255875200.0  0.000050  1.000050  \n",
      "2016-09-16   9.394032  796.320007  51.169123  253744600.0 -0.009250  0.990750  \n",
      "2016-09-19   9.175462  798.774994  53.789547  252595100.0 -0.005327  0.994673  \n",
      "2016-09-20   9.114946  800.505005  55.516881  253644300.0  0.000163  1.000163  \n",
      "2016-09-21   9.140446  800.970001  59.271790  254992800.0  0.010139  1.010139  \n",
      "2016-09-22   9.303430  813.385010  60.482403  256752100.0  0.024304  1.024304  \n",
      "2016-09-23   9.135650  814.864990  65.003168  255340400.0  0.026915  1.026915  \n",
      "2016-09-26   9.006459  805.265015  62.829331  253867700.0  0.011888  1.011888  \n",
      "2016-09-27   9.094909  807.660004  64.538750  255235000.0  0.022075  1.022075  \n",
      "2016-09-28   9.056744  806.515015  60.539206  253764700.0  0.017893  1.017893  \n",
      "2016-09-29   9.189852  807.384979  60.143553  252414700.0  0.013537  1.013537  \n",
      "2016-09-30   9.103191  804.795013  58.977698  254074900.0  0.017991  1.017991  \n",
      "2016-10-03   8.901492  799.884979  52.548270  252585700.0  0.004405  1.004405  \n",
      "2016-10-04   8.832443  803.084992  54.439040  253844400.0  0.007429  1.007429  \n",
      "2016-10-05   8.797694  804.605011  56.125927  252630600.0  0.005471  1.005471  \n",
      "2016-10-06   8.719104  803.730011  54.897679  253730500.0 -0.006114  0.993886  \n",
      "2016-10-07   8.732467  801.380005  51.274511  252567400.0 -0.009010  0.990990  \n",
      "2016-10-10   9.021609  809.809998  58.832570  254063500.0  0.032582  1.032582  \n",
      "2016-10-11   9.137222  813.614990  61.063968  252341900.0  0.026748  1.026748  \n",
      "2016-10-12   9.030981  811.524994  56.968192  253249800.0  0.016211  1.016211  \n",
      "\n",
      "[1489 rows x 17 columns]\n"
     ]
    }
   ],
   "source": [
    "\n",
    "from collections import deque\n",
    "tscv = TimeSeriesSplit(n_splits=5)\n",
    "aa = tscv.split(X)\n",
    "print type(aa)\n",
    "\n",
    "print X\n"
   ]
  },
  {
   "cell_type": "code",
   "execution_count": 150,
   "metadata": {
    "collapsed": false
   },
   "outputs": [
    {
     "data": {
      "text/plain": [
       "[('MSE', <function Regressors.MSE>),\n",
       " ('adaboost_regressor', <function Regressors.adaboost_regressor>),\n",
       " ('elasticnet_regressor', <function Regressors.elasticnet_regressor>),\n",
       " ('lasso_regressor', <function Regressors.lasso_regressor>),\n",
       " ('linear_regressor', <function Regressors.linear_regressor>),\n",
       " ('poly_regressor', <function Regressors.poly_regressor>),\n",
       " ('randomforest_regressor', <function Regressors.randomforest_regressor>),\n",
       " ('ridge_regressor', <function Regressors.ridge_regressor>),\n",
       " ('svm_regressor', <function Regressors.svm_regressor>)]"
      ]
     },
     "execution_count": 150,
     "metadata": {},
     "output_type": "execute_result"
    }
   ],
   "source": [
    "ESTIMATORS = {\n",
    "    \"Lasso\" :linear_model.LassoCV(),\n",
    "    \"Ridge\": linear_model.RidgeCV(),\n",
    "    \"ElasticNet\":linear_model.ElasticNetCV(),\n",
    "    \"Linear\":linear_model.LinearRegression()\n",
    "}\n",
    "\n",
    "\n",
    "def fit_gridModel(X,Y,r='ElasticNet'):\n",
    "    lasso = ESTIMATORS[r]\n",
    "    return lasso.fit(X,Y)\n",
    "    "
   ]
  },
  {
   "cell_type": "code",
   "execution_count": 514,
   "metadata": {
    "collapsed": false
   },
   "outputs": [
    {
     "data": {
      "text/plain": [
       "array([], dtype=float64)"
      ]
     },
     "execution_count": 514,
     "metadata": {},
     "output_type": "execute_result"
    }
   ],
   "source": [
    "np.logspace(0,10,num=1e-5, base=10, endpoint=False)"
   ]
  },
  {
   "cell_type": "code",
   "execution_count": 661,
   "metadata": {
    "collapsed": true
   },
   "outputs": [],
   "source": [
    "X.to_csv('X.csv', sep='\\t')\n",
    "Y.to_csv('y.csv',sep='\\t')"
   ]
  },
  {
   "cell_type": "code",
   "execution_count": 663,
   "metadata": {
    "collapsed": false
   },
   "outputs": [
    {
     "data": {
      "text/html": [
       "<div>\n",
       "<table border=\"1\" class=\"dataframe\">\n",
       "  <thead>\n",
       "    <tr style=\"text-align: right;\">\n",
       "      <th></th>\n",
       "      <th>ema10</th>\n",
       "      <th>ema20</th>\n",
       "      <th>sma10</th>\n",
       "      <th>sma20</th>\n",
       "      <th>rsi</th>\n",
       "      <th>drr</th>\n",
       "      <th>mom</th>\n",
       "      <th>will</th>\n",
       "      <th>Volume</th>\n",
       "      <th>High</th>\n",
       "      <th>Close</th>\n",
       "      <th>ATR</th>\n",
       "      <th>MEDPRICE</th>\n",
       "      <th>MFI</th>\n",
       "      <th>OBV</th>\n",
       "      <th>ROCP</th>\n",
       "      <th>ROCR</th>\n",
       "    </tr>\n",
       "    <tr>\n",
       "      <th>Date</th>\n",
       "      <th></th>\n",
       "      <th></th>\n",
       "      <th></th>\n",
       "      <th></th>\n",
       "      <th></th>\n",
       "      <th></th>\n",
       "      <th></th>\n",
       "      <th></th>\n",
       "      <th></th>\n",
       "      <th></th>\n",
       "      <th></th>\n",
       "      <th></th>\n",
       "      <th></th>\n",
       "      <th></th>\n",
       "      <th></th>\n",
       "      <th></th>\n",
       "      <th></th>\n",
       "    </tr>\n",
       "  </thead>\n",
       "  <tbody>\n",
       "    <tr>\n",
       "      <th>2006-11-13</th>\n",
       "      <td>237.543053</td>\n",
       "      <td>236.279213</td>\n",
       "      <td>237.358859</td>\n",
       "      <td>237.785288</td>\n",
       "      <td>70.303515</td>\n",
       "      <td>0.015796</td>\n",
       "      <td>1.019563</td>\n",
       "      <td>0.0</td>\n",
       "      <td>0.056723</td>\n",
       "      <td>481.169996</td>\n",
       "      <td>481.030000</td>\n",
       "      <td>9.858156</td>\n",
       "      <td>477.655006</td>\n",
       "      <td>61.962083</td>\n",
       "      <td>57016700.0</td>\n",
       "      <td>0.125743</td>\n",
       "      <td>1.125743</td>\n",
       "    </tr>\n",
       "    <tr>\n",
       "      <th>2006-11-14</th>\n",
       "      <td>238.881534</td>\n",
       "      <td>237.131088</td>\n",
       "      <td>238.234735</td>\n",
       "      <td>237.852855</td>\n",
       "      <td>78.225772</td>\n",
       "      <td>0.017192</td>\n",
       "      <td>1.037092</td>\n",
       "      <td>0.0</td>\n",
       "      <td>0.181859</td>\n",
       "      <td>489.949996</td>\n",
       "      <td>489.300011</td>\n",
       "      <td>9.844550</td>\n",
       "      <td>485.225005</td>\n",
       "      <td>63.865399</td>\n",
       "      <td>71449000.0</td>\n",
       "      <td>0.145097</td>\n",
       "      <td>1.145097</td>\n",
       "    </tr>\n",
       "    <tr>\n",
       "      <th>2006-11-15</th>\n",
       "      <td>240.215656</td>\n",
       "      <td>238.025632</td>\n",
       "      <td>239.242243</td>\n",
       "      <td>238.023776</td>\n",
       "      <td>79.928598</td>\n",
       "      <td>0.005375</td>\n",
       "      <td>1.042666</td>\n",
       "      <td>0.0</td>\n",
       "      <td>0.231684</td>\n",
       "      <td>499.849998</td>\n",
       "      <td>491.930008</td>\n",
       "      <td>9.868065</td>\n",
       "      <td>495.890003</td>\n",
       "      <td>67.539825</td>\n",
       "      <td>88173600.0</td>\n",
       "      <td>0.166402</td>\n",
       "      <td>1.166402</td>\n",
       "    </tr>\n",
       "    <tr>\n",
       "      <th>2006-11-16</th>\n",
       "      <td>241.668321</td>\n",
       "      <td>239.024524</td>\n",
       "      <td>240.190691</td>\n",
       "      <td>238.541794</td>\n",
       "      <td>79.198730</td>\n",
       "      <td>0.008070</td>\n",
       "      <td>1.039732</td>\n",
       "      <td>0.0</td>\n",
       "      <td>0.089324</td>\n",
       "      <td>497.680020</td>\n",
       "      <td>495.900003</td>\n",
       "      <td>9.730796</td>\n",
       "      <td>495.120007</td>\n",
       "      <td>70.693292</td>\n",
       "      <td>98348600.0</td>\n",
       "      <td>0.178918</td>\n",
       "      <td>1.178918</td>\n",
       "    </tr>\n",
       "    <tr>\n",
       "      <th>2006-11-17</th>\n",
       "      <td>243.119619</td>\n",
       "      <td>240.064288</td>\n",
       "      <td>241.503003</td>\n",
       "      <td>239.132134</td>\n",
       "      <td>92.344951</td>\n",
       "      <td>0.005828</td>\n",
       "      <td>1.055484</td>\n",
       "      <td>0.0</td>\n",
       "      <td>0.107493</td>\n",
       "      <td>499.660003</td>\n",
       "      <td>498.789993</td>\n",
       "      <td>9.628436</td>\n",
       "      <td>496.330008</td>\n",
       "      <td>70.777249</td>\n",
       "      <td>109359500.0</td>\n",
       "      <td>0.189549</td>\n",
       "      <td>1.189549</td>\n",
       "    </tr>\n",
       "  </tbody>\n",
       "</table>\n",
       "</div>"
      ],
      "text/plain": [
       "                 ema10       ema20       sma10       sma20        rsi  \\\n",
       "Date                                                                    \n",
       "2006-11-13  237.543053  236.279213  237.358859  237.785288  70.303515   \n",
       "2006-11-14  238.881534  237.131088  238.234735  237.852855  78.225772   \n",
       "2006-11-15  240.215656  238.025632  239.242243  238.023776  79.928598   \n",
       "2006-11-16  241.668321  239.024524  240.190691  238.541794  79.198730   \n",
       "2006-11-17  243.119619  240.064288  241.503003  239.132134  92.344951   \n",
       "\n",
       "                 drr       mom  will    Volume        High       Close  \\\n",
       "Date                                                                     \n",
       "2006-11-13  0.015796  1.019563   0.0  0.056723  481.169996  481.030000   \n",
       "2006-11-14  0.017192  1.037092   0.0  0.181859  489.949996  489.300011   \n",
       "2006-11-15  0.005375  1.042666   0.0  0.231684  499.849998  491.930008   \n",
       "2006-11-16  0.008070  1.039732   0.0  0.089324  497.680020  495.900003   \n",
       "2006-11-17  0.005828  1.055484   0.0  0.107493  499.660003  498.789993   \n",
       "\n",
       "                 ATR    MEDPRICE        MFI          OBV      ROCP      ROCR  \n",
       "Date                                                                          \n",
       "2006-11-13  9.858156  477.655006  61.962083   57016700.0  0.125743  1.125743  \n",
       "2006-11-14  9.844550  485.225005  63.865399   71449000.0  0.145097  1.145097  \n",
       "2006-11-15  9.868065  495.890003  67.539825   88173600.0  0.166402  1.166402  \n",
       "2006-11-16  9.730796  495.120007  70.693292   98348600.0  0.178918  1.178918  \n",
       "2006-11-17  9.628436  496.330008  70.777249  109359500.0  0.189549  1.189549  "
      ]
     },
     "execution_count": 663,
     "metadata": {},
     "output_type": "execute_result"
    }
   ],
   "source": [
    "X.head()"
   ]
  },
  {
   "cell_type": "code",
   "execution_count": null,
   "metadata": {
    "collapsed": true
   },
   "outputs": [],
   "source": []
  }
 ],
 "metadata": {
  "kernelspec": {
   "display_name": "Python 2",
   "language": "python",
   "name": "python2"
  },
  "language_info": {
   "codemirror_mode": {
    "name": "ipython",
    "version": 2
   },
   "file_extension": ".py",
   "mimetype": "text/x-python",
   "name": "python",
   "nbconvert_exporter": "python",
   "pygments_lexer": "ipython2",
   "version": "2.7.6"
  }
 },
 "nbformat": 4,
 "nbformat_minor": 1
}
