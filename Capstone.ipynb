{
 "cells": [
  {
   "cell_type": "code",
   "execution_count": 453,
   "metadata": {
    "collapsed": true
   },
   "outputs": [],
   "source": [
    "import os\n",
    "import pandas as pd\n",
    "import numpy as np\n",
    "import json\n",
    "import warnings\n",
    "from sklearn.preprocessing import PolynomialFeatures\n",
    "from sklearn.model_selection import TimeSeriesSplit\n",
    "from datetime import datetime\n",
    "from zipline.utils.factory import load_bars_from_yahoo\n",
    "import pytz\n",
    "import talib\n",
    "import numpy as np\n",
    "from sklearn import model_selection\n",
    "from sklearn import preprocessing\n",
    "import matplotlib.pyplot as plt\n",
    "import ystockquote"
   ]
  },
  {
   "cell_type": "code",
   "execution_count": 454,
   "metadata": {
    "collapsed": true
   },
   "outputs": [],
   "source": [
    "def MAE(predicted, test_label):\n",
    "    if len(predicted.shape)==1:\n",
    "        predicted=np.expand_dims(predicted,axis=1)\n",
    "    return ((predicted-test_label)**2).mean()"
   ]
  },
  {
   "cell_type": "code",
   "execution_count": 431,
   "metadata": {
    "collapsed": true
   },
   "outputs": [],
   "source": [
    "def plot_MSE(parameters,keys,error,r_name = 'RidgeRegressor'):\n",
    "        title = ','.join(keys)\n",
    "        plt.title('MSE vs '+title)\n",
    "        plt.plot(parameters, error)\n",
    "        plt.xscale('log')\n",
    "        plt.xlabel('Alpha')\n",
    "        plt.ylabel('MSE')\n",
    "        directory = './'+r_name+'/'\n",
    "        if not os.path.exists(directory):\n",
    "            os.makedirs(directory)\n",
    "        plt.savefig(directory + 'MSE'+ '.png')\n",
    "        plt.close()"
   ]
  },
  {
   "cell_type": "code",
   "execution_count": 455,
   "metadata": {
    "collapsed": false
   },
   "outputs": [
    {
     "name": "stdout",
     "output_type": "stream",
     "text": [
      "{'elastic_reg': <function elastic_reg at 0x7facbd777230>, 'ridge_reg': <function ridge_reg at 0x7facbd777758>, 'linear_reg': <function linear_reg at 0x7facbdd919b0>, 'svm_reg': <function svm_reg at 0x7facbd8d3cf8>, 'randomForest_reg': <function randomForest_reg at 0x7facbd777398>, 'lasso_reg': <function lasso_reg at 0x7facbd777d70>, 'ann_reg': <function ann_reg at 0x7facbd777cf8>}\n"
     ]
    }
   ],
   "source": [
    "from inspect import getmembers, isfunction\n",
    "import regressors25\n",
    "\n",
    "functions_list = [o for o in getmembers(regressors25) if isfunction(o[1])]\n",
    "regressor_dict= dict(functions_list)\n",
    "print regressor_dict"
   ]
  },
  {
   "cell_type": "code",
   "execution_count": 456,
   "metadata": {
    "collapsed": false
   },
   "outputs": [],
   "source": [
    "from sklearn.metrics import make_scorer\n",
    "from sklearn.tree import DecisionTreeRegressor\n",
    "from sklearn.metrics import r2_score\n",
    "from sklearn.metrics import mean_absolute_error\n",
    "from sklearn.metrics import mean_squared_error\n",
    "from sklearn.model_selection import GridSearchCV\n",
    "from sklearn.cross_validation import ShuffleSplit\n",
    "def fit_model(X, y,cv_iter,model_str,index=1):\n",
    "    \"\"\" Performs grid search over the 'max_depth' parameter for a \n",
    "        decision tree regressor trained on the input data [X, y]. \"\"\"\n",
    "    regressor,params= regressor_dict[regressor_dict.keys()[index]]()\n",
    "    scoring_fnc = make_scorer(mean_squared_error)\n",
    "    grid = GridSearchCV(regressor, params,scoring=scoring_fnc,cv=cv_iter)\n",
    "    grid = grid.fit(X, y)\n",
    "    return grid"
   ]
  },
  {
   "cell_type": "code",
   "execution_count": 434,
   "metadata": {
    "collapsed": false
   },
   "outputs": [],
   "source": [
    "def plot_prediction(price,dates_df,model_name,ticker,save=False):\n",
    "    plt.title(\"Prediction for \"+model_name+\" Regressor\")\n",
    "    plt.xlabel('Date')\n",
    "    plt.ylabel('Price')\n",
    "    plt.plot(price,label='Actual Price')\n",
    "    plt.plot(dates_df, label='Predicted Price')\n",
    "    plt.legend(loc='upper left')\n",
    "    plt.xticks(rotation='vertical')\n",
    "    plt.subplots_adjust(bottom=0.3)\n",
    "    if save:\n",
    "        directory = './Predictions/'+model_name+'/'\n",
    "        if not os.path.exists(directory):\n",
    "            os.makedirs(directory)\n",
    "        plt.savefig(directory+'prediction'+ticker+'.png')\n",
    "    else:\n",
    "        plt.show()\n",
    "    plt.close()"
   ]
  },
  {
   "cell_type": "code",
   "execution_count": 435,
   "metadata": {
    "collapsed": true
   },
   "outputs": [],
   "source": [
    "from collections import deque\n",
    "def get_last_cv(splits):\n",
    "    dd = deque(splits, maxlen=1)\n",
    "    last_element = dd.pop()\n",
    "    train,test = last_element\n",
    "    return train,test"
   ]
  },
  {
   "cell_type": "code",
   "execution_count": 436,
   "metadata": {
    "collapsed": true
   },
   "outputs": [],
   "source": [
    "def poly_transform(train,test,degree):\n",
    "    poly = PolynomialFeatures(degree)\n",
    "    train = poly.fit_transform(train)\n",
    "    test = poly.fit_transform(test)\n",
    "    return train,test"
   ]
  },
  {
   "cell_type": "code",
   "execution_count": 437,
   "metadata": {
    "collapsed": false
   },
   "outputs": [
    {
     "name": "stdout",
     "output_type": "stream",
     "text": [
      "['elastic_reg', 'ridge_reg', 'linear_reg', 'svm_reg', 'randomForest_reg', 'lasso_reg', 'ann_reg']\n"
     ]
    }
   ],
   "source": [
    "print regressor_dict.keys()"
   ]
  },
  {
   "cell_type": "code",
   "execution_count": 451,
   "metadata": {
    "collapsed": false
   },
   "outputs": [
    {
     "name": "stderr",
     "output_type": "stream",
     "text": [
      "readData7.py:43: FutureWarning: pd.rolling_mean is deprecated for DataFrame and will be removed in a future version, replace with \n",
      "\tDataFrame.rolling(window=30,center=False).mean()\n",
      "  return pd.rolling_mean(df, N)[N - 1:].rename(columns={'Adj Close':'sma'+str(N)})\n",
      "readData7.py:46: FutureWarning: pd.ewm_mean is deprecated for DataFrame and will be removed in a future version, replace with \n",
      "\tDataFrame.ewm(ignore_na=False,span=30,min_periods=0,adjust=True).mean()\n",
      "  return pd.ewma(df, span=span).rename(columns={'Adj Close':'ema10'})\n",
      "readData7.py:57: FutureWarning: pd.rolling_std is deprecated for DataFrame and will be removed in a future version, replace with \n",
      "\tDataFrame.rolling(window=30,center=False).std()\n",
      "  return 4*pd.stats.moments.rolling_std(data,length).rename(columns={'Adj Close':'bbw'})\n",
      "readData7.py:60: FutureWarning: pd.rolling_max is deprecated for DataFrame and will be removed in a future version, replace with \n",
      "\tDataFrame.rolling(window=2,center=False).max()\n",
      "  high=pd.rolling_max(df,2)\n",
      "readData7.py:61: FutureWarning: pd.rolling_min is deprecated for DataFrame and will be removed in a future version, replace with \n",
      "\tDataFrame.rolling(window=2,center=False).min()\n",
      "  low=pd.rolling_min(df,2)\n",
      "readData7.py:70: FutureWarning: pd.rolling_mean is deprecated for DataFrame and will be removed in a future version, replace with \n",
      "\tDataFrame.rolling(window=30,center=False).mean()\n",
      "  roll_up = pd.rolling_mean(up, n)\n",
      "readData7.py:71: FutureWarning: pd.rolling_mean is deprecated for DataFrame and will be removed in a future version, replace with \n",
      "\tDataFrame.rolling(window=30,center=False).mean()\n",
      "  roll_down = pd.rolling_mean(down.abs(), n)\n"
     ]
    }
   ],
   "source": [
    "from readData7 import getXY\n",
    "X,Y = getXY(ticker)"
   ]
  },
  {
   "cell_type": "code",
   "execution_count": 452,
   "metadata": {
    "collapsed": false
   },
   "outputs": [
    {
     "name": "stdout",
     "output_type": "stream",
     "text": [
      "[ 897.32781398  897.45481965  898.65550078  907.05064139  936.39561835\n",
      "  966.55101633  972.93944073  950.77998702  877.67215551]\n"
     ]
    },
    {
     "data": {
      "image/png": "[encoded data removed]",
      "text/plain": [
       "<matplotlib.figure.Figure at 0x7facbd801d50>"
      ]
     },
     "metadata": {},
     "output_type": "display_data"
    },
    {
     "name": "stdout",
     "output_type": "stream",
     "text": [
      "Adj Close    9.157761\n",
      "dtype: float64\n",
      "Adj Close    42.199921\n",
      "dtype: float64\n",
      "0.870603707487\n"
     ]
    }
   ],
   "source": [
    "from sklearn import linear_model\n",
    "from sklearn.metrics import r2_score\n",
    "import sklearn\n",
    "import inspect\n",
    "from sklearn.pipeline import Pipeline\n",
    "check=[]\n",
    "def f(n=30,n_spl=5,analyse_cv=True,poly_t=False):\n",
    "    index = 1\n",
    "    SEED = 100\n",
    "    random_state = np.random.RandomState(SEED)\n",
    "    tscv = TimeSeriesSplit(n_splits=n_spl)\n",
    "    grid=fit_model(X.values,Y.values,tscv.split(X),'r',index)\n",
    "    params = grid.best_params_ \n",
    "    reg ,_= regressor_dict[regressor_dict.keys()[index]]()\n",
    "    reg.set_params(**params)\n",
    "    model_name = type(reg).__name__\n",
    "    if analyse_cv:\n",
    "        print grid.cv_results_['mean_test_score']\n",
    "        error =  grid.cv_results_['mean_test_score']\n",
    "        grid_params =list(grid.cv_results_['params'])\n",
    "        global check\n",
    "        if len(grid_params[0].keys())>1:\n",
    "            parameters = list(itertools.product(*grid_params.values()[::-1]))\n",
    "        else:\n",
    "            parameters =[f[grid_params[0].keys()[0]] for f in grid_params]\n",
    "        plot_MSE(parameters,grid_params[0].keys(),error,model_name)\n",
    "    else:\n",
    "        tscv = TimeSeriesSplit(len(X)/n)\n",
    "    train_index,test_index = get_last_cv(tscv.split(X))\n",
    "    X_train ,X_test= X.iloc[train_index],X.iloc[test_index]\n",
    "    y_train, y_test = Y.iloc[train_index], Y.iloc[test_index]\n",
    "    if poly_t:\n",
    "        X_train,X_test = poly_transform(X_train,X_test,2)\n",
    "    reg.fit(X_train,y_train)\n",
    "    prediction = reg.predict(X_test)\n",
    "    #print prediction.shape\n",
    "    df = pd.Series(prediction.flatten(), index=y_test.index)\n",
    "    price = y_train.append(y_test)\n",
    "    plot_prediction(price,df,model_name,ticker)\n",
    "    p_l = map(lambda x:[x],prediction)\n",
    "    #print np.expand_dims(prediction, axis=0).shape\n",
    "    if len(prediction.shape)==1:\n",
    "        prediction=np.expand_dims(prediction,axis=1)\n",
    "    print np.mean(abs(np.asarray(prediction)-y_test))\n",
    "    print np.mean((np.asarray(prediction)-y_test))**2\n",
    "    print reg.score(X_test,y_test)\n",
    "    return reg\n",
    "model =f(analyse_cv=True)"
   ]
  },
  {
   "cell_type": "code",
   "execution_count": null,
   "metadata": {
    "collapsed": true
   },
   "outputs": [],
   "source": []
  },
  {
   "cell_type": "code",
   "execution_count": null,
   "metadata": {
    "collapsed": true
   },
   "outputs": [],
   "source": []
  },
  {
   "cell_type": "code",
   "execution_count": null,
   "metadata": {
    "collapsed": true
   },
   "outputs": [],
   "source": []
  }
 ],
 "metadata": {
  "kernelspec": {
   "display_name": "Python 2",
   "language": "python",
   "name": "python2"
  },
  "language_info": {
   "codemirror_mode": {
    "name": "ipython",
    "version": 2
   },
   "file_extension": ".py",
   "mimetype": "text/x-python",
   "name": "python",
   "nbconvert_exporter": "python",
   "pygments_lexer": "ipython2",
   "version": "2.7.6"
  }
 },
 "nbformat": 4,
 "nbformat_minor": 1
}
