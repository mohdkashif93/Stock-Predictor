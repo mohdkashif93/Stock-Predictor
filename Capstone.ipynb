{
 "cells": [
  {
   "cell_type": "code",
   "execution_count": 1,
   "metadata": {
    "collapsed": true
   },
   "outputs": [],
   "source": [
    "import os\n",
    "import pandas as pd\n",
    "import numpy as np\n",
    "import json\n",
    "import warnings\n",
    "from sklearn.preprocessing import PolynomialFeatures\n",
    "from sklearn.model_selection import TimeSeriesSplit\n",
    "from datetime import datetime\n",
    "from zipline.utils.factory import load_bars_from_yahoo\n",
    "import pytz\n",
    "import talib\n",
    "import numpy as np\n",
    "from sklearn import model_selection\n",
    "from sklearn import preprocessing\n",
    "import matplotlib.pyplot as plt\n",
    "import ystockquote"
   ]
  },
  {
   "cell_type": "code",
   "execution_count": 2,
   "metadata": {
    "collapsed": true
   },
   "outputs": [],
   "source": [
    "symbols = ['A', 'AA', 'AAP']#, 'ABBV', 'ABT', 'ACN', 'ADBE', 'AES', 'AET', 'AFL']\n",
    "start = datetime(2000, 1, 1, 0, 0, 0, 0, pytz.utc)\n",
    "end = datetime(2016, 4, 30, 0, 0, 0, 0, pytz.utc)\n",
    "dates = pd.date_range(start,end)"
   ]
  },
  {
   "cell_type": "code",
   "execution_count": 89,
   "metadata": {
    "collapsed": false
   },
   "outputs": [
    {
     "data": {
      "text/plain": [
       "DatetimeIndex(['2000-01-01', '2000-01-02', '2000-01-03', '2000-01-04',\n",
       "               '2000-01-05', '2000-01-06', '2000-01-07', '2000-01-08',\n",
       "               '2000-01-09', '2000-01-10',\n",
       "               ...\n",
       "               '2016-04-21', '2016-04-22', '2016-04-23', '2016-04-24',\n",
       "               '2016-04-25', '2016-04-26', '2016-04-27', '2016-04-28',\n",
       "               '2016-04-29', '2016-04-30'],\n",
       "              dtype='datetime64[ns, UTC]', length=5965, freq='D')"
      ]
     },
     "execution_count": 89,
     "metadata": {},
     "output_type": "execute_result"
    }
   ],
   "source": [
    "dates"
   ]
  },
  {
   "cell_type": "code",
   "execution_count": 2,
   "metadata": {
    "collapsed": false
   },
   "outputs": [
    {
     "data": {
      "text/plain": [
       "DatetimeIndex(['2011-10-13', '2011-10-14', '2011-10-15', '2011-10-16',\n",
       "               '2011-10-17', '2011-10-18', '2011-10-19', '2011-10-20',\n",
       "               '2011-10-21', '2011-10-22',\n",
       "               ...\n",
       "               '2016-10-03', '2016-10-04', '2016-10-05', '2016-10-06',\n",
       "               '2016-10-07', '2016-10-08', '2016-10-09', '2016-10-10',\n",
       "               '2016-10-11', '2016-10-12'],\n",
       "              dtype='datetime64[ns]', length=1827, freq='D')"
      ]
     },
     "execution_count": 2,
     "metadata": {},
     "output_type": "execute_result"
    }
   ],
   "source": [
    "dates = pd.date_range('2011-10-13', '2016-10-12')\n",
    "dates"
   ]
  },
  {
   "cell_type": "code",
   "execution_count": 4,
   "metadata": {
    "collapsed": false
   },
   "outputs": [],
   "source": [
    "def get_data(symbols, dates):\n",
    "    df = pd.DataFrame(index=dates)\n",
    "    data = []\n",
    "    for symbol in symbols:\n",
    "        df_temp = pd.read_csv(os.path.join(\"Data/table_{}.csv\".format(str(symbol))), index_col='Date',\n",
    "                              parse_dates=True, usecols=['Date', 'Adj Close'], na_values=['nan'])\n",
    "        df_comp = pd.read_csv(os.path.join(\"Data/table_{}.csv\".format(str(symbol))), index_col='Date',\n",
    "                              parse_dates=True, na_values=['nan'])\n",
    "        data.append(df_comp)\n",
    "        df_temp = df_temp.rename(columns={'Adj Close': symbol})\n",
    "        #print df_temp\n",
    "        df = df.join(df_temp)\n",
    "    return [df, data]"
   ]
  },
  {
   "cell_type": "code",
   "execution_count": 6,
   "metadata": {
    "collapsed": false
   },
   "outputs": [],
   "source": [
    "[df_old, data] = get_data(symbols, dates)"
   ]
  },
  {
   "cell_type": "code",
   "execution_count": 9,
   "metadata": {
    "collapsed": false
   },
   "outputs": [
    {
     "data": {
      "text/plain": [
       "1827"
      ]
     },
     "execution_count": 9,
     "metadata": {},
     "output_type": "execute_result"
    }
   ],
   "source": [
    "df_old.size/3"
   ]
  },
  {
   "cell_type": "code",
   "execution_count": 127,
   "metadata": {
    "collapsed": false
   },
   "outputs": [
    {
     "data": {
      "text/plain": [
       "True"
      ]
     },
     "execution_count": 127,
     "metadata": {},
     "output_type": "execute_result"
    }
   ],
   "source": [
    "df_old.isnull().values.any()"
   ]
  },
  {
   "cell_type": "code",
   "execution_count": 128,
   "metadata": {
    "collapsed": false
   },
   "outputs": [
    {
     "data": {
      "text/plain": [
       "1707"
      ]
     },
     "execution_count": 128,
     "metadata": {},
     "output_type": "execute_result"
    }
   ],
   "source": [
    "df_old.isnull().sum().sum()"
   ]
  },
  {
   "cell_type": "code",
   "execution_count": 119,
   "metadata": {
    "collapsed": false
   },
   "outputs": [
    {
     "data": {
      "text/plain": [
       "1827"
      ]
     },
     "execution_count": 119,
     "metadata": {},
     "output_type": "execute_result"
    }
   ],
   "source": [
    "len(dates)"
   ]
  },
  {
   "cell_type": "code",
   "execution_count": 452,
   "metadata": {
    "collapsed": true
   },
   "outputs": [],
   "source": [
    "def get_stocks_info(symbol):\n",
    "    dict_stocks = ystockquote.get_historical_prices(symbol, '2006-10-13', '2016-12-12')\n",
    "    json_str = json.dumps(dict_stocks)\n",
    "    df =pd.read_json(json_str,orient='index')\n",
    "    df = df.reindex(df.index.rename('Date'))\n",
    "    return df"
   ]
  },
  {
   "cell_type": "code",
   "execution_count": 453,
   "metadata": {
    "collapsed": false
   },
   "outputs": [],
   "source": [
    "def fill_missing(df):\n",
    "    df.fillna(method='ffill', inplace=True)\n",
    "    df.fillna(method='bfill', inplace=True)"
   ]
  },
  {
   "cell_type": "code",
   "execution_count": 454,
   "metadata": {
    "collapsed": false
   },
   "outputs": [],
   "source": [
    "df = get_stocks_info('GOOGL')"
   ]
  },
  {
   "cell_type": "code",
   "execution_count": 455,
   "metadata": {
    "collapsed": true
   },
   "outputs": [],
   "source": [
    "ticker='GOOGL'"
   ]
  },
  {
   "cell_type": "code",
   "execution_count": null,
   "metadata": {
    "collapsed": false
   },
   "outputs": [],
   "source": []
  },
  {
   "cell_type": "code",
   "execution_count": 456,
   "metadata": {
    "collapsed": true
   },
   "outputs": [],
   "source": [
    "new_df = df.filter(['Date','Adj Close'], axis=1)"
   ]
  },
  {
   "cell_type": "code",
   "execution_count": 457,
   "metadata": {
    "collapsed": false
   },
   "outputs": [],
   "source": [
    "#new_df.isnull().values.any()"
   ]
  },
  {
   "cell_type": "code",
   "execution_count": 458,
   "metadata": {
    "collapsed": false
   },
   "outputs": [],
   "source": [
    "s = new_df.reindex(dates, fill_value=np.nan)\n",
    "fill_missing(s)"
   ]
  },
  {
   "cell_type": "code",
   "execution_count": 459,
   "metadata": {
    "collapsed": false
   },
   "outputs": [],
   "source": [
    "#s.isnull().values.any()"
   ]
  },
  {
   "cell_type": "code",
   "execution_count": 460,
   "metadata": {
    "collapsed": false
   },
   "outputs": [],
   "source": [
    "#s.isnull().sum().sum()*3"
   ]
  },
  {
   "cell_type": "code",
   "execution_count": 461,
   "metadata": {
    "collapsed": false
   },
   "outputs": [],
   "source": [
    "s = s.reindex(s.index.rename('Date'))"
   ]
  },
  {
   "cell_type": "code",
   "execution_count": 462,
   "metadata": {
    "collapsed": false
   },
   "outputs": [
    {
     "data": {
      "text/html": [
       "<div>\n",
       "<table border=\"1\" class=\"dataframe\">\n",
       "  <thead>\n",
       "    <tr style=\"text-align: right;\">\n",
       "      <th></th>\n",
       "      <th>Adj Close</th>\n",
       "    </tr>\n",
       "    <tr>\n",
       "      <th>Date</th>\n",
       "      <th></th>\n",
       "    </tr>\n",
       "  </thead>\n",
       "  <tbody>\n",
       "    <tr>\n",
       "      <th>2011-10-13</th>\n",
       "      <td>279.774784</td>\n",
       "    </tr>\n",
       "    <tr>\n",
       "      <th>2011-10-14</th>\n",
       "      <td>296.136143</td>\n",
       "    </tr>\n",
       "    <tr>\n",
       "      <th>2011-10-15</th>\n",
       "      <td>296.136143</td>\n",
       "    </tr>\n",
       "    <tr>\n",
       "      <th>2011-10-16</th>\n",
       "      <td>296.136143</td>\n",
       "    </tr>\n",
       "    <tr>\n",
       "      <th>2011-10-17</th>\n",
       "      <td>291.496494</td>\n",
       "    </tr>\n",
       "  </tbody>\n",
       "</table>\n",
       "</div>"
      ],
      "text/plain": [
       "             Adj Close\n",
       "Date                  \n",
       "2011-10-13  279.774784\n",
       "2011-10-14  296.136143\n",
       "2011-10-15  296.136143\n",
       "2011-10-16  296.136143\n",
       "2011-10-17  291.496494"
      ]
     },
     "execution_count": 462,
     "metadata": {},
     "output_type": "execute_result"
    }
   ],
   "source": [
    "s.head()"
   ]
  },
  {
   "cell_type": "code",
   "execution_count": 463,
   "metadata": {
    "collapsed": true
   },
   "outputs": [],
   "source": [
    "def smavg(df, N):\n",
    "    return pd.rolling_mean(df, N)[N - 1:]\n",
    "\n",
    "\n",
    "def expmavg(df, span):\n",
    "    return pd.ewma(df, span=span)\n",
    "\n",
    "\n",
    "def com_daily_returns(df):\n",
    "    daily_returns = (df / df.shift(1)) - 1\n",
    "    return daily_returns\n",
    "\n",
    "\n",
    "def com_momentum(df, n):\n",
    "    mom = (df / df.shift(n))\n",
    "    return mom\n",
    "\n",
    "\n",
    "def com_rsi(df, n):\n",
    "    df = df.diff()\n",
    "    df = df[1:]\n",
    "    up, down = df.copy(), df.copy()\n",
    "    up[up < 0] = 0\n",
    "    down[down > 0] = 0\n",
    "    roll_up = pd.rolling_mean(up, n)\n",
    "    roll_down = pd.rolling_mean(down.abs(), n)\n",
    "    rs = roll_up / roll_down\n",
    "    rss = 100.0 - (100.0 / (1.0 + rs))\n",
    "    return rss\n",
    "\n",
    "def BBW(data,length):\n",
    "    return 4*pd.stats.moments.rolling_std(data,length)\n",
    "\n",
    "def com_williamspercent(df):\n",
    "    high=pd.rolling_max(df,2)\n",
    "    low=pd.rolling_min(df,2)\n",
    "    return ((high-df)/(high-low))*100"
   ]
  },
  {
   "cell_type": "code",
   "execution_count": 464,
   "metadata": {
    "collapsed": false
   },
   "outputs": [
    {
     "data": {
      "text/html": [
       "<div>\n",
       "<table border=\"1\" class=\"dataframe\">\n",
       "  <thead>\n",
       "    <tr style=\"text-align: right;\">\n",
       "      <th></th>\n",
       "      <th>Adj Close</th>\n",
       "      <th>Close</th>\n",
       "      <th>High</th>\n",
       "      <th>Low</th>\n",
       "      <th>Open</th>\n",
       "      <th>Volume</th>\n",
       "    </tr>\n",
       "    <tr>\n",
       "      <th>Date</th>\n",
       "      <th></th>\n",
       "      <th></th>\n",
       "      <th></th>\n",
       "      <th></th>\n",
       "      <th></th>\n",
       "      <th></th>\n",
       "    </tr>\n",
       "  </thead>\n",
       "  <tbody>\n",
       "    <tr>\n",
       "      <th>2006-10-13</th>\n",
       "      <td>213.863864</td>\n",
       "      <td>427.300000</td>\n",
       "      <td>429.500007</td>\n",
       "      <td>425.560012</td>\n",
       "      <td>427.760019</td>\n",
       "      <td>7237700</td>\n",
       "    </tr>\n",
       "    <tr>\n",
       "      <th>2006-10-16</th>\n",
       "      <td>211.086093</td>\n",
       "      <td>421.750013</td>\n",
       "      <td>429.200015</td>\n",
       "      <td>421.339993</td>\n",
       "      <td>427.700021</td>\n",
       "      <td>8630100</td>\n",
       "    </tr>\n",
       "    <tr>\n",
       "      <th>2006-10-17</th>\n",
       "      <td>210.530536</td>\n",
       "      <td>420.640010</td>\n",
       "      <td>423.749995</td>\n",
       "      <td>416.700015</td>\n",
       "      <td>420.300018</td>\n",
       "      <td>10411500</td>\n",
       "    </tr>\n",
       "    <tr>\n",
       "      <th>2006-10-18</th>\n",
       "      <td>209.864871</td>\n",
       "      <td>419.310012</td>\n",
       "      <td>424.750001</td>\n",
       "      <td>417.499995</td>\n",
       "      <td>422.990014</td>\n",
       "      <td>12022500</td>\n",
       "    </tr>\n",
       "    <tr>\n",
       "      <th>2006-10-19</th>\n",
       "      <td>213.243243</td>\n",
       "      <td>426.060000</td>\n",
       "      <td>429.500007</td>\n",
       "      <td>419.570006</td>\n",
       "      <td>420.230020</td>\n",
       "      <td>22983900</td>\n",
       "    </tr>\n",
       "  </tbody>\n",
       "</table>\n",
       "</div>"
      ],
      "text/plain": [
       "             Adj Close       Close        High         Low        Open  \\\n",
       "Date                                                                     \n",
       "2006-10-13  213.863864  427.300000  429.500007  425.560012  427.760019   \n",
       "2006-10-16  211.086093  421.750013  429.200015  421.339993  427.700021   \n",
       "2006-10-17  210.530536  420.640010  423.749995  416.700015  420.300018   \n",
       "2006-10-18  209.864871  419.310012  424.750001  417.499995  422.990014   \n",
       "2006-10-19  213.243243  426.060000  429.500007  419.570006  420.230020   \n",
       "\n",
       "              Volume  \n",
       "Date                  \n",
       "2006-10-13   7237700  \n",
       "2006-10-16   8630100  \n",
       "2006-10-17  10411500  \n",
       "2006-10-18  12022500  \n",
       "2006-10-19  22983900  "
      ]
     },
     "execution_count": 464,
     "metadata": {},
     "output_type": "execute_result"
    }
   ],
   "source": [
    "df.head()"
   ]
  },
  {
   "cell_type": "code",
   "execution_count": 465,
   "metadata": {
    "collapsed": false
   },
   "outputs": [
    {
     "name": "stdout",
     "output_type": "stream",
     "text": [
      "             Adj Close\n",
      "Date                  \n",
      "2011-10-13  279.774784\n",
      "2011-10-14  296.136143\n",
      "2011-10-15  296.136143\n",
      "2011-10-16  296.136143\n",
      "2011-10-17  291.496494\n",
      "             Adj Close\n",
      "Date                  \n",
      "2011-10-22  292.907911\n",
      "2011-10-23  294.484486\n",
      "2011-10-24  294.721723\n",
      "2011-10-25  294.295295\n",
      "2011-10-26  294.026526\n",
      "             Adj Close\n",
      "Date                  \n",
      "2011-10-13  279.774784\n",
      "2011-10-14  296.136143\n",
      "2011-10-15  296.136143\n",
      "2011-10-16  296.136143\n",
      "2011-10-17  291.496494\n",
      "                 sma10\n",
      "Date                  \n",
      "2011-10-22  292.907911\n",
      "2011-10-23  294.484486\n",
      "2011-10-24  294.721723\n",
      "2011-10-25  294.295295\n",
      "2011-10-26  294.026526\n"
     ]
    },
    {
     "name": "stderr",
     "output_type": "stream",
     "text": [
      "/usr/local/lib/python2.7/dist-packages/ipykernel/__main__.py:2: FutureWarning: pd.rolling_mean is deprecated for DataFrame and will be removed in a future version, replace with \n",
      "\tDataFrame.rolling(window=10,center=False).mean()\n",
      "  from ipykernel import kernelapp as app\n",
      "/usr/local/lib/python2.7/dist-packages/ipykernel/__main__.py:2: FutureWarning: pd.rolling_mean is deprecated for DataFrame and will be removed in a future version, replace with \n",
      "\tDataFrame.rolling(window=20,center=False).mean()\n",
      "  from ipykernel import kernelapp as app\n",
      "/usr/local/lib/python2.7/dist-packages/ipykernel/__main__.py:2: FutureWarning: pd.rolling_mean is deprecated for DataFrame and will be removed in a future version, replace with \n",
      "\tDataFrame.rolling(window=30,center=False).mean()\n",
      "  from ipykernel import kernelapp as app\n",
      "/usr/local/lib/python2.7/dist-packages/ipykernel/__main__.py:6: FutureWarning: pd.ewm_mean is deprecated for DataFrame and will be removed in a future version, replace with \n",
      "\tDataFrame.ewm(ignore_na=False,span=10,min_periods=0,adjust=True).mean()\n",
      "/usr/local/lib/python2.7/dist-packages/ipykernel/__main__.py:6: FutureWarning: pd.ewm_mean is deprecated for DataFrame and will be removed in a future version, replace with \n",
      "\tDataFrame.ewm(ignore_na=False,span=20,min_periods=0,adjust=True).mean()\n",
      "/usr/local/lib/python2.7/dist-packages/ipykernel/__main__.py:6: FutureWarning: pd.ewm_mean is deprecated for DataFrame and will be removed in a future version, replace with \n",
      "\tDataFrame.ewm(ignore_na=False,span=30,min_periods=0,adjust=True).mean()\n",
      "/usr/local/lib/python2.7/dist-packages/ipykernel/__main__.py:32: FutureWarning: pd.rolling_std is deprecated for DataFrame and will be removed in a future version, replace with \n",
      "\tDataFrame.rolling(window=20,center=False).std()\n",
      "/usr/local/lib/python2.7/dist-packages/ipykernel/__main__.py:35: FutureWarning: pd.rolling_max is deprecated for DataFrame and will be removed in a future version, replace with \n",
      "\tDataFrame.rolling(window=2,center=False).max()\n",
      "/usr/local/lib/python2.7/dist-packages/ipykernel/__main__.py:36: FutureWarning: pd.rolling_min is deprecated for DataFrame and will be removed in a future version, replace with \n",
      "\tDataFrame.rolling(window=2,center=False).min()\n",
      "/usr/local/lib/python2.7/dist-packages/ipykernel/__main__.py:25: FutureWarning: pd.rolling_mean is deprecated for DataFrame and will be removed in a future version, replace with \n",
      "\tDataFrame.rolling(window=10,center=False).mean()\n",
      "/usr/local/lib/python2.7/dist-packages/ipykernel/__main__.py:26: FutureWarning: pd.rolling_mean is deprecated for DataFrame and will be removed in a future version, replace with \n",
      "\tDataFrame.rolling(window=10,center=False).mean()\n"
     ]
    }
   ],
   "source": [
    "temp_df = s.copy()\n",
    "comp_temp = df.copy()\n",
    "volume = comp_temp['Volume']\n",
    "high = comp_temp['High']\n",
    "close = comp_temp['Close']\n",
    "low = comp_temp['Low']\n",
    "# print type(volume)\n",
    "sum_data = temp_df.join(high)\n",
    "sum_data =sum_data.join(close)\n",
    "sum_data =sum_data.join(low)\n",
    "sum_data =sum_data.join(volume)\n",
    "fill_missing(sum_data)\n",
    "sum_data = sum_data[['High','Low','Close','Volume']]\n",
    "low = sum_data['Low']\n",
    "high =sum_data['High']\n",
    "volume = sum_data['Volume']\n",
    "close = sum_data['Close']\n",
    "sma10 = smavg(temp_df, 10)\n",
    "print temp_df.head()\n",
    "print sma10.head()\n",
    "sma10 = sma10.rename(columns={'Adj Close':'sma10'})\n",
    "print temp_df.head()\n",
    "print sma10.head()\n",
    "sma20 = smavg(temp_df, 20)\n",
    "sma20 = sma20.rename(columns={'Adj Close':'sma20'})\n",
    "sma30 = smavg(temp_df, 30)\n",
    "sma30 = sma30.rename(columns={'Adj Close':'sma30'})\n",
    "ema10 = expmavg(temp_df, 10)\n",
    "ema10 = ema10.rename(columns={'Adj Close':'ema10'})\n",
    "ema20 = expmavg(temp_df, 20)\n",
    "ema20 = ema20.rename(columns={'Adj Close':'ema20'})\n",
    "ema30 = expmavg(temp_df, 30)\n",
    "ema30 = ema30.rename(columns={'Adj Close':'sma30'})\n",
    "mom = com_momentum(temp_df, 10)\n",
    "mom = mom.rename(columns={'Adj Close':'mom'})\n",
    "drr = com_daily_returns(temp_df)\n",
    "drr = drr.rename(columns={'Adj Close':'drr'})\n",
    "bbw = BBW(temp_df, 20)\n",
    "bbw = bbw.rename(columns={'Adj Close':'bbw'})\n",
    "will = com_williamspercent(temp_df)\n",
    "will = will.rename(columns={'Adj Close':'will'})\n",
    "rsi = com_rsi(temp_df, 10)\n",
    "rsi = rsi.rename(columns={'Adj Close':'rsi'})"
   ]
  },
  {
   "cell_type": "code",
   "execution_count": 466,
   "metadata": {
    "collapsed": false
   },
   "outputs": [
    {
     "data": {
      "text/plain": [
       "array([ 548.019981,  587.569992,  587.569992, ...,  802.23999 ,\n",
       "        807.369995,  808.549988])"
      ]
     },
     "execution_count": 466,
     "metadata": {},
     "output_type": "execute_result"
    }
   ],
   "source": [
    "low.head()\n",
    "low.values"
   ]
  },
  {
   "cell_type": "code",
   "execution_count": 467,
   "metadata": {
    "collapsed": false
   },
   "outputs": [
    {
     "data": {
      "text/plain": [
       "array([ 279.774784,  296.136143,  296.136143, ...,  814.169983,\n",
       "        809.570007,  811.77002 ])"
      ]
     },
     "execution_count": 467,
     "metadata": {},
     "output_type": "execute_result"
    }
   ],
   "source": [
    "temp_df.values.flatten()"
   ]
  },
  {
   "cell_type": "code",
   "execution_count": null,
   "metadata": {
    "collapsed": true
   },
   "outputs": [],
   "source": []
  },
  {
   "cell_type": "code",
   "execution_count": 468,
   "metadata": {
    "collapsed": false
   },
   "outputs": [],
   "source": [
    "time_period = 30\n",
    "ti_ATR = talib.ATR(high.values, low.values,close.values, time_period)\n",
    "ti_ROCP = talib.ROCP(temp_df.values.flatten(), time_period)\n",
    "ti_OBV = talib.OBV(temp_df.values.flatten(), volume.values)\n",
    "# ROCR\n",
    "ti_ROCR = talib.ROCR(temp_df.values.flatten(), time_period)\n",
    "ti_MEDPRICE = talib.MEDPRICE(high.values, low.values)\n",
    "ti_MFI = talib.MFI(high.values,low.values,close.values, volume.values, time_period)\n"
   ]
  },
  {
   "cell_type": "code",
   "execution_count": 469,
   "metadata": {
    "collapsed": false
   },
   "outputs": [],
   "source": [
    "ti = pd.DataFrame({\n",
    "        'ATR': ti_ATR,\n",
    "        'MEDPRICE': ti_MEDPRICE,\n",
    "        'MFI': ti_MFI,\n",
    "        'OBV': ti_OBV,\n",
    "        'ROCP': ti_ROCP,\n",
    "        'ROCR': ti_ROCR,\n",
    "    }, index=temp_df.index)\n"
   ]
  },
  {
   "cell_type": "code",
   "execution_count": 470,
   "metadata": {
    "collapsed": false
   },
   "outputs": [
    {
     "data": {
      "text/plain": [
       "pandas.core.frame.DataFrame"
      ]
     },
     "execution_count": 470,
     "metadata": {},
     "output_type": "execute_result"
    }
   ],
   "source": [
    "type(ema10)"
   ]
  },
  {
   "cell_type": "code",
   "execution_count": 471,
   "metadata": {
    "collapsed": false
   },
   "outputs": [],
   "source": [
    "X=pd.concat([ema10,ema20,sma10,sma20,rsi,drr,mom,will,volume,high,close,ti], axis=1).dropna()"
   ]
  },
  {
   "cell_type": "code",
   "execution_count": 472,
   "metadata": {
    "collapsed": false
   },
   "outputs": [],
   "source": [
    "col_list = [s for s in list(X.columns) if 'Volume' in s]\n",
    "X[col_list] = X[col_list].apply(lambda x: (x - x.mean()) / (x.max() - x.min()))"
   ]
  },
  {
   "cell_type": "code",
   "execution_count": 473,
   "metadata": {
    "collapsed": false
   },
   "outputs": [],
   "source": [
    "Y=pd.concat([X.copy(),temp_df.copy()], axis=1,join_axes=[X.index]).dropna()"
   ]
  },
  {
   "cell_type": "code",
   "execution_count": 474,
   "metadata": {
    "collapsed": false
   },
   "outputs": [],
   "source": [
    "index_values = X.index.values"
   ]
  },
  {
   "cell_type": "code",
   "execution_count": 475,
   "metadata": {
    "collapsed": true
   },
   "outputs": [],
   "source": [
    "Y = temp_df.reindex(index_values, fill_value=np.nan)"
   ]
  },
  {
   "cell_type": "code",
   "execution_count": 476,
   "metadata": {
    "collapsed": false
   },
   "outputs": [
    {
     "data": {
      "text/html": [
       "<div>\n",
       "<table border=\"1\" class=\"dataframe\">\n",
       "  <thead>\n",
       "    <tr style=\"text-align: right;\">\n",
       "      <th></th>\n",
       "      <th>Adj Close</th>\n",
       "    </tr>\n",
       "    <tr>\n",
       "      <th>Date</th>\n",
       "      <th></th>\n",
       "    </tr>\n",
       "  </thead>\n",
       "  <tbody>\n",
       "    <tr>\n",
       "      <th>2011-11-14</th>\n",
       "      <td>306.806797</td>\n",
       "    </tr>\n",
       "    <tr>\n",
       "      <th>2011-11-15</th>\n",
       "      <td>308.588597</td>\n",
       "    </tr>\n",
       "    <tr>\n",
       "      <th>2011-11-16</th>\n",
       "      <td>306.041050</td>\n",
       "    </tr>\n",
       "    <tr>\n",
       "      <th>2011-11-17</th>\n",
       "      <td>300.735752</td>\n",
       "    </tr>\n",
       "    <tr>\n",
       "      <th>2011-11-18</th>\n",
       "      <td>297.737736</td>\n",
       "    </tr>\n",
       "  </tbody>\n",
       "</table>\n",
       "</div>"
      ],
      "text/plain": [
       "             Adj Close\n",
       "Date                  \n",
       "2011-11-14  306.806797\n",
       "2011-11-15  308.588597\n",
       "2011-11-16  306.041050\n",
       "2011-11-17  300.735752\n",
       "2011-11-18  297.737736"
      ]
     },
     "execution_count": 476,
     "metadata": {},
     "output_type": "execute_result"
    }
   ],
   "source": [
    "Y.head()"
   ]
  },
  {
   "cell_type": "code",
   "execution_count": 477,
   "metadata": {
    "collapsed": false
   },
   "outputs": [
    {
     "data": {
      "text/plain": [
       "(1236, 1)"
      ]
     },
     "execution_count": 477,
     "metadata": {},
     "output_type": "execute_result"
    }
   ],
   "source": [
    "Y.shape"
   ]
  },
  {
   "cell_type": "code",
   "execution_count": 478,
   "metadata": {
    "collapsed": false
   },
   "outputs": [
    {
     "data": {
      "text/html": [
       "<div>\n",
       "<table border=\"1\" class=\"dataframe\">\n",
       "  <thead>\n",
       "    <tr style=\"text-align: right;\">\n",
       "      <th></th>\n",
       "      <th>ema10</th>\n",
       "      <th>ema20</th>\n",
       "      <th>sma10</th>\n",
       "      <th>sma20</th>\n",
       "      <th>rsi</th>\n",
       "      <th>drr</th>\n",
       "      <th>mom</th>\n",
       "      <th>will</th>\n",
       "      <th>Volume</th>\n",
       "      <th>High</th>\n",
       "      <th>Close</th>\n",
       "      <th>ATR</th>\n",
       "      <th>MEDPRICE</th>\n",
       "      <th>MFI</th>\n",
       "      <th>OBV</th>\n",
       "      <th>ROCP</th>\n",
       "      <th>ROCR</th>\n",
       "    </tr>\n",
       "    <tr>\n",
       "      <th>Date</th>\n",
       "      <th></th>\n",
       "      <th></th>\n",
       "      <th></th>\n",
       "      <th></th>\n",
       "      <th></th>\n",
       "      <th></th>\n",
       "      <th></th>\n",
       "      <th></th>\n",
       "      <th></th>\n",
       "      <th></th>\n",
       "      <th></th>\n",
       "      <th></th>\n",
       "      <th></th>\n",
       "      <th></th>\n",
       "      <th></th>\n",
       "      <th></th>\n",
       "      <th></th>\n",
       "    </tr>\n",
       "  </thead>\n",
       "  <tbody>\n",
       "    <tr>\n",
       "      <th>2011-11-14</th>\n",
       "      <td>302.750433</td>\n",
       "      <td>300.739430</td>\n",
       "      <td>302.654163</td>\n",
       "      <td>299.854360</td>\n",
       "      <td>66.407127</td>\n",
       "      <td>0.007644</td>\n",
       "      <td>1.028282</td>\n",
       "      <td>0.0</td>\n",
       "      <td>0.124340</td>\n",
       "      <td>618.079979</td>\n",
       "      <td>612.999981</td>\n",
       "      <td>12.528019</td>\n",
       "      <td>612.929983</td>\n",
       "      <td>63.053353</td>\n",
       "      <td>62222400.0</td>\n",
       "      <td>0.036033</td>\n",
       "      <td>1.036033</td>\n",
       "    </tr>\n",
       "    <tr>\n",
       "      <th>2011-11-15</th>\n",
       "      <td>303.813074</td>\n",
       "      <td>301.512703</td>\n",
       "      <td>303.676185</td>\n",
       "      <td>300.611367</td>\n",
       "      <td>68.583899</td>\n",
       "      <td>0.005808</td>\n",
       "      <td>1.034254</td>\n",
       "      <td>0.0</td>\n",
       "      <td>0.082252</td>\n",
       "      <td>618.079979</td>\n",
       "      <td>616.560016</td>\n",
       "      <td>12.363085</td>\n",
       "      <td>614.289980</td>\n",
       "      <td>64.539849</td>\n",
       "      <td>67569000.0</td>\n",
       "      <td>0.042050</td>\n",
       "      <td>1.042050</td>\n",
       "    </tr>\n",
       "    <tr>\n",
       "      <th>2011-11-16</th>\n",
       "      <td>304.218522</td>\n",
       "      <td>301.957362</td>\n",
       "      <td>304.443452</td>\n",
       "      <td>300.931687</td>\n",
       "      <td>62.768608</td>\n",
       "      <td>-0.008255</td>\n",
       "      <td>1.025715</td>\n",
       "      <td>100.0</td>\n",
       "      <td>0.076710</td>\n",
       "      <td>618.300034</td>\n",
       "      <td>611.470018</td>\n",
       "      <td>12.207317</td>\n",
       "      <td>614.455006</td>\n",
       "      <td>65.730334</td>\n",
       "      <td>62357300.0</td>\n",
       "      <td>0.049896</td>\n",
       "      <td>1.049896</td>\n",
       "    </tr>\n",
       "    <tr>\n",
       "      <th>2011-11-17</th>\n",
       "      <td>303.584829</td>\n",
       "      <td>301.837760</td>\n",
       "      <td>304.070078</td>\n",
       "      <td>300.949957</td>\n",
       "      <td>43.617383</td>\n",
       "      <td>-0.017335</td>\n",
       "      <td>0.987737</td>\n",
       "      <td>100.0</td>\n",
       "      <td>0.149345</td>\n",
       "      <td>612.289998</td>\n",
       "      <td>600.870033</td>\n",
       "      <td>12.317406</td>\n",
       "      <td>604.535005</td>\n",
       "      <td>60.362092</td>\n",
       "      <td>55377700.0</td>\n",
       "      <td>0.017544</td>\n",
       "      <td>1.017544</td>\n",
       "    </tr>\n",
       "    <tr>\n",
       "      <th>2011-11-18</th>\n",
       "      <td>302.521087</td>\n",
       "      <td>301.437414</td>\n",
       "      <td>303.196204</td>\n",
       "      <td>300.818325</td>\n",
       "      <td>35.551154</td>\n",
       "      <td>-0.009969</td>\n",
       "      <td>0.971486</td>\n",
       "      <td>100.0</td>\n",
       "      <td>0.132467</td>\n",
       "      <td>604.500005</td>\n",
       "      <td>594.879996</td>\n",
       "      <td>12.265158</td>\n",
       "      <td>599.125015</td>\n",
       "      <td>59.982937</td>\n",
       "      <td>48808900.0</td>\n",
       "      <td>0.024419</td>\n",
       "      <td>1.024419</td>\n",
       "    </tr>\n",
       "  </tbody>\n",
       "</table>\n",
       "</div>"
      ],
      "text/plain": [
       "                 ema10       ema20       sma10       sma20        rsi  \\\n",
       "Date                                                                    \n",
       "2011-11-14  302.750433  300.739430  302.654163  299.854360  66.407127   \n",
       "2011-11-15  303.813074  301.512703  303.676185  300.611367  68.583899   \n",
       "2011-11-16  304.218522  301.957362  304.443452  300.931687  62.768608   \n",
       "2011-11-17  303.584829  301.837760  304.070078  300.949957  43.617383   \n",
       "2011-11-18  302.521087  301.437414  303.196204  300.818325  35.551154   \n",
       "\n",
       "                 drr       mom   will    Volume        High       Close  \\\n",
       "Date                                                                      \n",
       "2011-11-14  0.007644  1.028282    0.0  0.124340  618.079979  612.999981   \n",
       "2011-11-15  0.005808  1.034254    0.0  0.082252  618.079979  616.560016   \n",
       "2011-11-16 -0.008255  1.025715  100.0  0.076710  618.300034  611.470018   \n",
       "2011-11-17 -0.017335  0.987737  100.0  0.149345  612.289998  600.870033   \n",
       "2011-11-18 -0.009969  0.971486  100.0  0.132467  604.500005  594.879996   \n",
       "\n",
       "                  ATR    MEDPRICE        MFI         OBV      ROCP      ROCR  \n",
       "Date                                                                          \n",
       "2011-11-14  12.528019  612.929983  63.053353  62222400.0  0.036033  1.036033  \n",
       "2011-11-15  12.363085  614.289980  64.539849  67569000.0  0.042050  1.042050  \n",
       "2011-11-16  12.207317  614.455006  65.730334  62357300.0  0.049896  1.049896  \n",
       "2011-11-17  12.317406  604.535005  60.362092  55377700.0  0.017544  1.017544  \n",
       "2011-11-18  12.265158  599.125015  59.982937  48808900.0  0.024419  1.024419  "
      ]
     },
     "execution_count": 478,
     "metadata": {},
     "output_type": "execute_result"
    }
   ],
   "source": [
    "X.head()"
   ]
  },
  {
   "cell_type": "code",
   "execution_count": 479,
   "metadata": {
    "collapsed": false
   },
   "outputs": [],
   "source": [
    "# Y = Y.reset_index()\n",
    "# X=X.reset_index()\n",
    "#del X.index.name\n",
    "del Y.index.name"
   ]
  },
  {
   "cell_type": "code",
   "execution_count": 480,
   "metadata": {
    "collapsed": false
   },
   "outputs": [
    {
     "data": {
      "text/html": [
       "<div>\n",
       "<table border=\"1\" class=\"dataframe\">\n",
       "  <thead>\n",
       "    <tr style=\"text-align: right;\">\n",
       "      <th></th>\n",
       "      <th>Adj Close</th>\n",
       "    </tr>\n",
       "  </thead>\n",
       "  <tbody>\n",
       "    <tr>\n",
       "      <th>2011-11-14</th>\n",
       "      <td>306.806797</td>\n",
       "    </tr>\n",
       "    <tr>\n",
       "      <th>2011-11-15</th>\n",
       "      <td>308.588597</td>\n",
       "    </tr>\n",
       "    <tr>\n",
       "      <th>2011-11-16</th>\n",
       "      <td>306.041050</td>\n",
       "    </tr>\n",
       "    <tr>\n",
       "      <th>2011-11-17</th>\n",
       "      <td>300.735752</td>\n",
       "    </tr>\n",
       "    <tr>\n",
       "      <th>2011-11-18</th>\n",
       "      <td>297.737736</td>\n",
       "    </tr>\n",
       "  </tbody>\n",
       "</table>\n",
       "</div>"
      ],
      "text/plain": [
       "             Adj Close\n",
       "2011-11-14  306.806797\n",
       "2011-11-15  308.588597\n",
       "2011-11-16  306.041050\n",
       "2011-11-17  300.735752\n",
       "2011-11-18  297.737736"
      ]
     },
     "execution_count": 480,
     "metadata": {},
     "output_type": "execute_result"
    }
   ],
   "source": [
    "X.head()\n",
    "Y.head()"
   ]
  },
  {
   "cell_type": "code",
   "execution_count": 481,
   "metadata": {
    "collapsed": false
   },
   "outputs": [
    {
     "data": {
      "text/html": [
       "<div>\n",
       "<table border=\"1\" class=\"dataframe\">\n",
       "  <thead>\n",
       "    <tr style=\"text-align: right;\">\n",
       "      <th></th>\n",
       "      <th>ema10</th>\n",
       "      <th>ema20</th>\n",
       "      <th>sma10</th>\n",
       "      <th>sma20</th>\n",
       "      <th>rsi</th>\n",
       "      <th>drr</th>\n",
       "      <th>mom</th>\n",
       "      <th>will</th>\n",
       "      <th>Volume</th>\n",
       "      <th>High</th>\n",
       "      <th>Close</th>\n",
       "      <th>ATR</th>\n",
       "      <th>MEDPRICE</th>\n",
       "      <th>MFI</th>\n",
       "      <th>OBV</th>\n",
       "      <th>ROCP</th>\n",
       "      <th>ROCR</th>\n",
       "    </tr>\n",
       "    <tr>\n",
       "      <th>Date</th>\n",
       "      <th></th>\n",
       "      <th></th>\n",
       "      <th></th>\n",
       "      <th></th>\n",
       "      <th></th>\n",
       "      <th></th>\n",
       "      <th></th>\n",
       "      <th></th>\n",
       "      <th></th>\n",
       "      <th></th>\n",
       "      <th></th>\n",
       "      <th></th>\n",
       "      <th></th>\n",
       "      <th></th>\n",
       "      <th></th>\n",
       "      <th></th>\n",
       "      <th></th>\n",
       "    </tr>\n",
       "  </thead>\n",
       "  <tbody>\n",
       "    <tr>\n",
       "      <th>2011-11-14</th>\n",
       "      <td>302.750433</td>\n",
       "      <td>300.739430</td>\n",
       "      <td>302.654163</td>\n",
       "      <td>299.854360</td>\n",
       "      <td>66.407127</td>\n",
       "      <td>0.007644</td>\n",
       "      <td>1.028282</td>\n",
       "      <td>0.0</td>\n",
       "      <td>0.124340</td>\n",
       "      <td>618.079979</td>\n",
       "      <td>612.999981</td>\n",
       "      <td>12.528019</td>\n",
       "      <td>612.929983</td>\n",
       "      <td>63.053353</td>\n",
       "      <td>62222400.0</td>\n",
       "      <td>0.036033</td>\n",
       "      <td>1.036033</td>\n",
       "    </tr>\n",
       "    <tr>\n",
       "      <th>2011-11-15</th>\n",
       "      <td>303.813074</td>\n",
       "      <td>301.512703</td>\n",
       "      <td>303.676185</td>\n",
       "      <td>300.611367</td>\n",
       "      <td>68.583899</td>\n",
       "      <td>0.005808</td>\n",
       "      <td>1.034254</td>\n",
       "      <td>0.0</td>\n",
       "      <td>0.082252</td>\n",
       "      <td>618.079979</td>\n",
       "      <td>616.560016</td>\n",
       "      <td>12.363085</td>\n",
       "      <td>614.289980</td>\n",
       "      <td>64.539849</td>\n",
       "      <td>67569000.0</td>\n",
       "      <td>0.042050</td>\n",
       "      <td>1.042050</td>\n",
       "    </tr>\n",
       "    <tr>\n",
       "      <th>2011-11-16</th>\n",
       "      <td>304.218522</td>\n",
       "      <td>301.957362</td>\n",
       "      <td>304.443452</td>\n",
       "      <td>300.931687</td>\n",
       "      <td>62.768608</td>\n",
       "      <td>-0.008255</td>\n",
       "      <td>1.025715</td>\n",
       "      <td>100.0</td>\n",
       "      <td>0.076710</td>\n",
       "      <td>618.300034</td>\n",
       "      <td>611.470018</td>\n",
       "      <td>12.207317</td>\n",
       "      <td>614.455006</td>\n",
       "      <td>65.730334</td>\n",
       "      <td>62357300.0</td>\n",
       "      <td>0.049896</td>\n",
       "      <td>1.049896</td>\n",
       "    </tr>\n",
       "    <tr>\n",
       "      <th>2011-11-17</th>\n",
       "      <td>303.584829</td>\n",
       "      <td>301.837760</td>\n",
       "      <td>304.070078</td>\n",
       "      <td>300.949957</td>\n",
       "      <td>43.617383</td>\n",
       "      <td>-0.017335</td>\n",
       "      <td>0.987737</td>\n",
       "      <td>100.0</td>\n",
       "      <td>0.149345</td>\n",
       "      <td>612.289998</td>\n",
       "      <td>600.870033</td>\n",
       "      <td>12.317406</td>\n",
       "      <td>604.535005</td>\n",
       "      <td>60.362092</td>\n",
       "      <td>55377700.0</td>\n",
       "      <td>0.017544</td>\n",
       "      <td>1.017544</td>\n",
       "    </tr>\n",
       "    <tr>\n",
       "      <th>2011-11-18</th>\n",
       "      <td>302.521087</td>\n",
       "      <td>301.437414</td>\n",
       "      <td>303.196204</td>\n",
       "      <td>300.818325</td>\n",
       "      <td>35.551154</td>\n",
       "      <td>-0.009969</td>\n",
       "      <td>0.971486</td>\n",
       "      <td>100.0</td>\n",
       "      <td>0.132467</td>\n",
       "      <td>604.500005</td>\n",
       "      <td>594.879996</td>\n",
       "      <td>12.265158</td>\n",
       "      <td>599.125015</td>\n",
       "      <td>59.982937</td>\n",
       "      <td>48808900.0</td>\n",
       "      <td>0.024419</td>\n",
       "      <td>1.024419</td>\n",
       "    </tr>\n",
       "  </tbody>\n",
       "</table>\n",
       "</div>"
      ],
      "text/plain": [
       "                 ema10       ema20       sma10       sma20        rsi  \\\n",
       "Date                                                                    \n",
       "2011-11-14  302.750433  300.739430  302.654163  299.854360  66.407127   \n",
       "2011-11-15  303.813074  301.512703  303.676185  300.611367  68.583899   \n",
       "2011-11-16  304.218522  301.957362  304.443452  300.931687  62.768608   \n",
       "2011-11-17  303.584829  301.837760  304.070078  300.949957  43.617383   \n",
       "2011-11-18  302.521087  301.437414  303.196204  300.818325  35.551154   \n",
       "\n",
       "                 drr       mom   will    Volume        High       Close  \\\n",
       "Date                                                                      \n",
       "2011-11-14  0.007644  1.028282    0.0  0.124340  618.079979  612.999981   \n",
       "2011-11-15  0.005808  1.034254    0.0  0.082252  618.079979  616.560016   \n",
       "2011-11-16 -0.008255  1.025715  100.0  0.076710  618.300034  611.470018   \n",
       "2011-11-17 -0.017335  0.987737  100.0  0.149345  612.289998  600.870033   \n",
       "2011-11-18 -0.009969  0.971486  100.0  0.132467  604.500005  594.879996   \n",
       "\n",
       "                  ATR    MEDPRICE        MFI         OBV      ROCP      ROCR  \n",
       "Date                                                                          \n",
       "2011-11-14  12.528019  612.929983  63.053353  62222400.0  0.036033  1.036033  \n",
       "2011-11-15  12.363085  614.289980  64.539849  67569000.0  0.042050  1.042050  \n",
       "2011-11-16  12.207317  614.455006  65.730334  62357300.0  0.049896  1.049896  \n",
       "2011-11-17  12.317406  604.535005  60.362092  55377700.0  0.017544  1.017544  \n",
       "2011-11-18  12.265158  599.125015  59.982937  48808900.0  0.024419  1.024419  "
      ]
     },
     "execution_count": 481,
     "metadata": {},
     "output_type": "execute_result"
    }
   ],
   "source": [
    "X.head()"
   ]
  },
  {
   "cell_type": "code",
   "execution_count": 482,
   "metadata": {
    "collapsed": false
   },
   "outputs": [
    {
     "data": {
      "text/plain": [
       "(1236, 1)"
      ]
     },
     "execution_count": 482,
     "metadata": {},
     "output_type": "execute_result"
    }
   ],
   "source": [
    "Y.shape"
   ]
  },
  {
   "cell_type": "code",
   "execution_count": 483,
   "metadata": {
    "collapsed": false
   },
   "outputs": [
    {
     "data": {
      "text/plain": [
       "(1236, 17)"
      ]
     },
     "execution_count": 483,
     "metadata": {},
     "output_type": "execute_result"
    }
   ],
   "source": [
    "X.shape"
   ]
  },
  {
   "cell_type": "code",
   "execution_count": 484,
   "metadata": {
    "collapsed": true
   },
   "outputs": [],
   "source": [
    "def MSE(predicted, test_label):\n",
    "    return ((predicted-test_label)**2).mean()"
   ]
  },
  {
   "cell_type": "code",
   "execution_count": null,
   "metadata": {
    "collapsed": true
   },
   "outputs": [],
   "source": []
  },
  {
   "cell_type": "code",
   "execution_count": 485,
   "metadata": {
    "collapsed": true
   },
   "outputs": [],
   "source": [
    "r_name = 'RidgeRegressor'\n",
    "def plot_MSE(alp,error):\n",
    "        plt.title('MSE vs Alpha')\n",
    "        plt.plot(alp, error)\n",
    "        plt.xscale('log')\n",
    "        plt.xlabel('Alpha')\n",
    "        plt.ylabel('MSE')\n",
    "        directory = './'+r_name+'/'\n",
    "        if not os.path.exists(directory):\n",
    "            os.makedirs(directory)\n",
    "        plt.savefig(directory + 'MSE'+ '.png')\n",
    "        plt.close()"
   ]
  },
  {
   "cell_type": "code",
   "execution_count": null,
   "metadata": {
    "collapsed": false
   },
   "outputs": [],
   "source": []
  },
  {
   "cell_type": "code",
   "execution_count": 600,
   "metadata": {
    "collapsed": false
   },
   "outputs": [
    {
     "name": "stdout",
     "output_type": "stream",
     "text": [
      "{'randomForest_reg': <function randomForest_reg at 0x7fb63030bed8>, 'ridge_reg': <function ridge_reg at 0x7fb62ffe0500>, 'lasso_reg': <function lasso_reg at 0x7fb62e9bfc80>, 'ann_reg': <function ann_reg at 0x7fb62ecf2e60>}\n"
     ]
    }
   ],
   "source": [
    "from inspect import getmembers, isfunction\n",
    "import regressors16\n",
    "\n",
    "functions_list = [o for o in getmembers(regressors16) if isfunction(o[1])]\n",
    "regressor_dict= dict(functions_list)\n",
    "print regressor_dict"
   ]
  },
  {
   "cell_type": "code",
   "execution_count": 601,
   "metadata": {
    "collapsed": false
   },
   "outputs": [],
   "source": [
    "from sklearn.metrics import make_scorer\n",
    "from sklearn.tree import DecisionTreeRegressor\n",
    "from sklearn import grid_search\n",
    "def fit_model(X, y,model_str):\n",
    "    \"\"\" Performs grid search over the 'max_depth' parameter for a \n",
    "        decision tree regressor trained on the input data [X, y]. \"\"\"\n",
    "    regressor,params= regressor_dict[regressor_dict.keys()[3]]()\n",
    "    scoring_fnc = make_scorer(MSE)\n",
    "    grid = grid_search.GridSearchCV(regressor, params)# ,cv=cv_sets)\n",
    "    grid = grid.fit(X, y)\n",
    "    return grid.best_estimator_"
   ]
  },
  {
   "cell_type": "code",
   "execution_count": 602,
   "metadata": {
    "collapsed": false
   },
   "outputs": [],
   "source": [
    "def plot_prediction(price,dates_df,model_name,ticker,save=False):\n",
    "    plt.title(model_name)\n",
    "    plt.xlabel('Date')\n",
    "    plt.ylabel('Price')\n",
    "    plt.plot(price,label='Actual Price')\n",
    "    plt.plot(dates_df, label='Predicted Price')\n",
    "    plt.legend(loc='upper left')\n",
    "    plt.xticks(rotation='vertical')\n",
    "    plt.subplots_adjust(bottom=0.3)\n",
    "    if save:\n",
    "        directory = './Predictions/'+model_name+'/'\n",
    "        if not os.path.exists(directory):\n",
    "            os.makedirs(directory)\n",
    "        plt.savefig(directory+'prediction'+ticker+'.png')\n",
    "    else:\n",
    "        plt.show()\n",
    "    plt.close()"
   ]
  },
  {
   "cell_type": "code",
   "execution_count": 603,
   "metadata": {
    "collapsed": false
   },
   "outputs": [],
   "source": [
    "ESTIMATORS = {\n",
    "    \"Lasso\" :linear_model.LassoCV(),\n",
    "    \"Ridge\": linear_model.RidgeCV(),\n",
    "    \"ElasticNet\":linear_model.ElasticNetCV()\n",
    "}\n",
    "\n",
    "\n",
    "def fit_gridModel(X,Y,r='ElasticNet'):\n",
    "    lasso = ESTIMATORS[r]\n",
    "    return lasso.fit(X,Y)\n",
    "    "
   ]
  },
  {
   "cell_type": "code",
   "execution_count": 599,
   "metadata": {
    "collapsed": false
   },
   "outputs": [
    {
     "name": "stdout",
     "output_type": "stream",
     "text": [
      "<class 'pandas.core.frame.DataFrame'>\n",
      "[[  3.84529818e+02   3.79048160e+02   3.84913424e+02 ...,   1.11344800e+08\n",
      "    6.40139034e-02   1.06401390e+00]\n",
      " [  3.88127670e+02   3.82546442e+02   3.88318822e+02 ...,   1.07013600e+08\n",
      "    5.73386154e-02   1.05733862e+00]\n",
      " [  3.88602777e+02   3.83326853e+02   3.88574077e+02 ...,   1.03299400e+08\n",
      "    5.50143160e-02   1.05501432e+00]\n",
      " ..., \n",
      " [  5.32470394e+02   5.39143370e+02   5.32876996e+02 ...,   1.31356700e+08\n",
      "   -4.33536665e-02   9.56646334e-01]\n",
      " [  5.32908505e+02   5.38737336e+02   5.32030994e+02 ...,   1.29318200e+08\n",
      "   -4.11120120e-02   9.58887988e-01]\n",
      " [  5.33930601e+02   5.38717592e+02   5.31946997e+02 ...,   1.31322500e+08\n",
      "   -5.19054645e-02   9.48094536e-01]]\n",
      "Adj Close    False\n",
      "dtype: bool\n",
      "MLPRegressor(activation='relu', alpha=0.0001, batch_size='auto', beta_1=0.9,\n",
      "       beta_2=0.999, early_stopping=False, epsilon=1e-08,\n",
      "       hidden_layer_sizes=(100,), learning_rate='constant',\n",
      "       learning_rate_init=0.001, max_iter=200, momentum=0.9,\n",
      "       nesterovs_momentum=True, power_t=0.5, random_state=None,\n",
      "       shuffle=True, solver='adam', tol=0.0001, validation_fraction=0.1,\n",
      "       verbose=False, warm_start=False)\n",
      "<class 'pandas.core.frame.DataFrame'>\n",
      "[[  5.33919581e+02   5.38255916e+02   5.30783997e+02 ...,   1.29541700e+08\n",
      "   -6.02834418e-02   9.39716558e-01]\n",
      " [  5.34162612e+02   5.37257402e+02   5.31585998e+02 ...,   1.30770100e+08\n",
      "   -1.81934580e-02   9.81806542e-01]\n",
      " [  5.32054866e+02   5.35858602e+02   5.31533002e+02 ...,   1.28935100e+08\n",
      "   -4.15955855e-02   9.58404414e-01]\n",
      " ..., \n",
      " [  6.50738061e+02   6.15303916e+02   6.38481000e+02 ...,   1.94571400e+08\n",
      "    2.47219743e-01   1.24721974e+00]\n",
      " [  6.58803864e+02   6.22903541e+02   6.52379999e+02 ...,   1.90416400e+08\n",
      "    2.41959664e-01   1.24195966e+00]\n",
      " [  6.61699522e+02   6.27839392e+02   6.62679999e+02 ...,   1.86604800e+08\n",
      "    1.97625024e-01   1.19762502e+00]]\n",
      "Adj Close    False\n",
      "dtype: bool\n",
      "MLPRegressor(activation='relu', alpha=0.0001, batch_size='auto', beta_1=0.9,\n",
      "       beta_2=0.999, early_stopping=False, epsilon=1e-08,\n",
      "       hidden_layer_sizes=(100,), learning_rate='constant',\n",
      "       learning_rate_init=0.001, max_iter=200, momentum=0.9,\n",
      "       nesterovs_momentum=True, power_t=0.5, random_state=None,\n",
      "       shuffle=True, solver='adam', tol=0.0001, validation_fraction=0.1,\n",
      "       verbose=False, warm_start=False)\n",
      "<class 'pandas.core.frame.DataFrame'>\n",
      "[[  6.60439612e+02   6.30404214e+02   6.69739002e+02 ...,   1.82473700e+08\n",
      "    1.72225526e-01   1.17222553e+00]\n",
      " [  6.58511667e+02   6.37057239e+02   6.77984003e+02 ...,   1.85392800e+08\n",
      "    1.90232565e-01   1.19023256e+00]\n",
      " [  6.58720450e+02   6.39209880e+02   6.73988001e+02 ...,   1.87111000e+08\n",
      "    1.92745770e-01   1.19274577e+00]\n",
      " ..., \n",
      " [  8.04474768e+02   8.03828361e+02   8.03190003e+02 ...,   2.17209700e+08\n",
      "    3.25816808e-02   1.03258168e+00]\n",
      " [  8.05401175e+02   8.04375185e+02   8.03741003e+02 ...,   2.15488100e+08\n",
      "    2.67477013e-02   1.02674770e+00]\n",
      " [  8.06559147e+02   8.05079455e+02   8.04512006e+02 ...,   2.16396000e+08\n",
      "    1.62114280e-02   1.01621143e+00]]\n",
      "Adj Close    False\n",
      "dtype: bool\n",
      "MLPRegressor(activation='relu', alpha=0.0001, batch_size='auto', beta_1=0.9,\n",
      "       beta_2=0.999, early_stopping=False, epsilon=1e-08,\n",
      "       hidden_layer_sizes=(100,), learning_rate='constant',\n",
      "       learning_rate_init=0.001, max_iter=200, momentum=0.9,\n",
      "       nesterovs_momentum=True, power_t=0.5, random_state=None,\n",
      "       shuffle=True, solver='adam', tol=0.0001, validation_fraction=0.1,\n",
      "       verbose=False, warm_start=False)\n",
      "309\n",
      "927\n",
      "2015-07-24    5250.512525\n",
      "2015-07-27    5313.011760\n",
      "2015-07-28    5360.289562\n",
      "2015-07-29    5410.569278\n",
      "2015-07-30    5465.585133\n",
      "dtype: float64\n"
     ]
    },
    {
     "data": {
      "image/png": "[encoded data removed]",
      "text/plain": [
       "<matplotlib.figure.Figure at 0x7fb62ed12b50>"
      ]
     },
     "metadata": {},
     "output_type": "display_data"
    },
    {
     "name": "stdout",
     "output_type": "stream",
     "text": [
      "-11262.3664871\n"
     ]
    }
   ],
   "source": [
    "from sklearn import linear_model\n",
    "from sklearn.metrics import r2_score\n",
    "import sklearn\n",
    "import inspect\n",
    "def f():\n",
    "    tscv = TimeSeriesSplit(n_splits=3)\n",
    "    SEED = 100\n",
    "    random_state = np.random.RandomState(SEED)\n",
    "    \n",
    "    for train_index, test_index in tscv.split(X):\n",
    "        train_index=train_index.tolist()\n",
    "        test_index = test_index.tolist()\n",
    "        X_train ,X_test= X.iloc[train_index],X.iloc[test_index]\n",
    "        y_train, y_test = Y.iloc[train_index], Y.iloc[test_index]\n",
    "        min_error = 10000000000\n",
    "        print type(X_train)\n",
    "        print (X_test.values)\n",
    "        print y_train.isnull().any()\n",
    "        #X_train.replace([np.inf, -np.inf], np.nan)\n",
    "        #print X_train.isnull().values.any()\n",
    "        error = []\n",
    "        alp = [1e-4,1e-3,1e-2,1e-1,1,10,100,1000,10000]\n",
    "        fin_alpha = 0\n",
    "        reg = fit_model(X_train,y_train,'r')\n",
    "        reg = sklearn.neural_network.MLPRegressor()\n",
    "        reg.fit(X_train,y_train)\n",
    "        #reg = fit_gridModel(X_train,y_train,'Lasso')\n",
    "        #print \"Parameter 'alpha' is {} for the optimal model.\".format(reg.get_params()['alpha'])\n",
    "        print reg\n",
    "        model_name = type(reg).__name__\n",
    "    print len(X_test)\n",
    "    print len(X_train)\n",
    "\n",
    "    prediction = reg.predict(X_test)\n",
    "    df = pd.Series(prediction.flatten(), index=y_test.index)\n",
    "    print df.head()\n",
    "    price = y_train.append(y_test)\n",
    "    plot_prediction(price,df,model_name,ticker)\n",
    "    p_l = map(lambda x:[x],prediction)\n",
    "    #print MSE(np.array(p_l),y_test)\n",
    "    print reg.score(X_test,y_test)\n",
    "    #print r2_score(prediction,y_test)\n",
    "    #     plt.title(model_name)\n",
    "#     plt.xlabel('Date')\n",
    "#     plt.ylabel('Price')\n",
    "#     plt.plot(price,label='Actual Price')\n",
    "#     plt.plot(df, label='Predicted Price')\n",
    "#     plt.legend(loc='upper left')\n",
    "#     plt.show()\n",
    "        \n",
    "        #         for i in range(0, len(alp)):\n",
    "#             regr = linear_model.Ridge(alpha=alp[i],random_state=random_state)\n",
    "#             regr.fit(X_train, y_train)\n",
    "#             predict = regr.predict(X_test)\n",
    "#             mse = MSE(predict, y_test)\n",
    "#             error.append(mse)\n",
    "#             # print mse[0]\n",
    "#             if (mse[0] < min_error):\n",
    "#                 min_error = mse[0]\n",
    "#                 fin_alpha = alp[i]\n",
    "\n",
    "#         regr = linear_model.Ridge(alpha= fin_alpha,random_state=random_state)\n",
    "#         regr.fit(X_train, y_train)\n",
    "#         score = regr.score(X_test, y_test)\n",
    "#         predict = regr.predict(X_test)\n",
    "#         mse = MSE(predict, y_test)\n",
    "#         print 'MSE22 '+' '+ str(mse[0])\n",
    "#         df = pd.Series(predict.flatten(), index=y_test.index)\n",
    "#         price = y_train.append(y_test)\n",
    "#         plt.title('Ridge Regression on 2' )\n",
    "#         plt.plot(price,label='actual price')\n",
    "#         plt.plot(df, label='predicted price')\n",
    "#         plt.legend(loc='lower right')\n",
    "#         plt.xlabel('Dates')\n",
    "#         plt.ylabel('Price')\n",
    "#         #plt.show()\n",
    "#         directory = './ridge2/'\n",
    "#         if not os.path.exists(directory):\n",
    "#             os.makedirs(directory)\n",
    "#         plt.savefig(directory+ 'a2.png')\n",
    "#         plt.close()\n",
    "#         print(inspect.currentframe().f_code.co_name)\n",
    "f()"
   ]
  },
  {
   "cell_type": "code",
   "execution_count": 525,
   "metadata": {
    "collapsed": false
   },
   "outputs": [
    {
     "data": {
      "text/plain": [
       "60"
      ]
     },
     "execution_count": 525,
     "metadata": {},
     "output_type": "execute_result"
    }
   ],
   "source": [
    "len(dates)/30"
   ]
  },
  {
   "cell_type": "code",
   "execution_count": 218,
   "metadata": {
    "collapsed": false
   },
   "outputs": [
    {
     "data": {
      "image/png": "[encoded data removed]",
      "text/plain": [
       "<matplotlib.figure.Figure at 0x7fb6305cb8d0>"
      ]
     },
     "metadata": {},
     "output_type": "display_data"
    }
   ],
   "source": [
    "plot_prediction(Y,df,'sdsd',ticker)"
   ]
  },
  {
   "cell_type": "code",
   "execution_count": 150,
   "metadata": {
    "collapsed": false
   },
   "outputs": [
    {
     "data": {
      "text/plain": [
       "[('MSE', <function Regressors.MSE>),\n",
       " ('adaboost_regressor', <function Regressors.adaboost_regressor>),\n",
       " ('elasticnet_regressor', <function Regressors.elasticnet_regressor>),\n",
       " ('lasso_regressor', <function Regressors.lasso_regressor>),\n",
       " ('linear_regressor', <function Regressors.linear_regressor>),\n",
       " ('poly_regressor', <function Regressors.poly_regressor>),\n",
       " ('randomforest_regressor', <function Regressors.randomforest_regressor>),\n",
       " ('ridge_regressor', <function Regressors.ridge_regressor>),\n",
       " ('svm_regressor', <function Regressors.svm_regressor>)]"
      ]
     },
     "execution_count": 150,
     "metadata": {},
     "output_type": "execute_result"
    }
   ],
   "source": [
    "functions_list"
   ]
  },
  {
   "cell_type": "code",
   "execution_count": 514,
   "metadata": {
    "collapsed": false
   },
   "outputs": [
    {
     "data": {
      "text/plain": [
       "array([], dtype=float64)"
      ]
     },
     "execution_count": 514,
     "metadata": {},
     "output_type": "execute_result"
    }
   ],
   "source": [
    "np.logspace(0,10,num=1e-5, base=10, endpoint=False)"
   ]
  },
  {
   "cell_type": "code",
   "execution_count": null,
   "metadata": {
    "collapsed": true
   },
   "outputs": [],
   "source": []
  }
 ],
 "metadata": {
  "kernelspec": {
   "display_name": "Python 2",
   "language": "python",
   "name": "python2"
  },
  "language_info": {
   "codemirror_mode": {
    "name": "ipython",
    "version": 2
   },
   "file_extension": ".py",
   "mimetype": "text/x-python",
   "name": "python",
   "nbconvert_exporter": "python",
   "pygments_lexer": "ipython2",
   "version": "2.7.6"
  }
 },
 "nbformat": 4,
 "nbformat_minor": 1
}
